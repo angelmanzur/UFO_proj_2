{
 "cells": [
  {
   "cell_type": "markdown",
   "metadata": {},
   "source": [
    "### UFO Predictions\n",
    "#### Angel, Filis"
   ]
  },
  {
   "cell_type": "markdown",
   "metadata": {},
   "source": [
    "#### 1. First, import the following libraries"
   ]
  },
  {
   "cell_type": "code",
   "execution_count": 1,
   "metadata": {},
   "outputs": [],
   "source": [
    "import sqlite3\n",
    "import pandas as pd\n",
    "import numpy as np\n",
    "import seaborn as sns\n",
    "import matplotlib.pyplot as plt\n",
    "from scipy.stats import ttest_ind"
   ]
  },
  {
   "cell_type": "markdown",
   "metadata": {},
   "source": [
    "#### 2. Connect to the database called ufo.db which was made from a csv file which was made from scraping the site:  http://www.nuforc.org/index.html"
   ]
  },
  {
   "cell_type": "code",
   "execution_count": 2,
   "metadata": {},
   "outputs": [],
   "source": [
    "conn = sqlite3.connect('ufos.db')"
   ]
  },
  {
   "cell_type": "code",
   "execution_count": 3,
   "metadata": {},
   "outputs": [],
   "source": [
    "c = conn.cursor()"
   ]
  },
  {
   "cell_type": "markdown",
   "metadata": {},
   "source": [
    "#### 3. Grab all the data from the database ufo and save it as a dataframe table. "
   ]
  },
  {
   "cell_type": "code",
   "execution_count": 4,
   "metadata": {},
   "outputs": [],
   "source": [
    "c.execute('''select * from populations''')\n",
    "population_df = pd.DataFrame(c.fetchall())\n",
    "population_df.columns = [i[0] for i in c.description]"
   ]
  },
  {
   "cell_type": "code",
   "execution_count": 7,
   "metadata": {},
   "outputs": [
    {
     "data": {
      "text/html": [
       "<div>\n",
       "<style scoped>\n",
       "    .dataframe tbody tr th:only-of-type {\n",
       "        vertical-align: middle;\n",
       "    }\n",
       "\n",
       "    .dataframe tbody tr th {\n",
       "        vertical-align: top;\n",
       "    }\n",
       "\n",
       "    .dataframe thead th {\n",
       "        text-align: right;\n",
       "    }\n",
       "</style>\n",
       "<table border=\"1\" class=\"dataframe\">\n",
       "  <thead>\n",
       "    <tr style=\"text-align: right;\">\n",
       "      <th></th>\n",
       "      <th>Geographic Area</th>\n",
       "      <th>2010</th>\n",
       "      <th>2011</th>\n",
       "      <th>2012</th>\n",
       "      <th>2013</th>\n",
       "      <th>2014</th>\n",
       "      <th>2015</th>\n",
       "      <th>2016</th>\n",
       "      <th>2017</th>\n",
       "      <th>2018</th>\n",
       "    </tr>\n",
       "  </thead>\n",
       "  <tbody>\n",
       "    <tr>\n",
       "      <th>0</th>\n",
       "      <td>AL</td>\n",
       "      <td>4,785,448</td>\n",
       "      <td>4,798,834</td>\n",
       "      <td>4,815,564</td>\n",
       "      <td>4,830,460</td>\n",
       "      <td>4,842,481</td>\n",
       "      <td>4,853,160</td>\n",
       "      <td>4,864,745</td>\n",
       "      <td>4,875,120</td>\n",
       "      <td>4,887,871</td>\n",
       "    </tr>\n",
       "    <tr>\n",
       "      <th>1</th>\n",
       "      <td>AK</td>\n",
       "      <td>713,906</td>\n",
       "      <td>722,038</td>\n",
       "      <td>730,399</td>\n",
       "      <td>737,045</td>\n",
       "      <td>736,307</td>\n",
       "      <td>737,547</td>\n",
       "      <td>741,504</td>\n",
       "      <td>739,786</td>\n",
       "      <td>737,438</td>\n",
       "    </tr>\n",
       "    <tr>\n",
       "      <th>2</th>\n",
       "      <td>AZ</td>\n",
       "      <td>6,407,774</td>\n",
       "      <td>6,473,497</td>\n",
       "      <td>6,556,629</td>\n",
       "      <td>6,634,999</td>\n",
       "      <td>6,733,840</td>\n",
       "      <td>6,833,596</td>\n",
       "      <td>6,945,452</td>\n",
       "      <td>7,048,876</td>\n",
       "      <td>7,171,646</td>\n",
       "    </tr>\n",
       "    <tr>\n",
       "      <th>3</th>\n",
       "      <td>AR</td>\n",
       "      <td>2,921,978</td>\n",
       "      <td>2,940,407</td>\n",
       "      <td>2,952,109</td>\n",
       "      <td>2,959,549</td>\n",
       "      <td>2,967,726</td>\n",
       "      <td>2,978,407</td>\n",
       "      <td>2,990,410</td>\n",
       "      <td>3,002,997</td>\n",
       "      <td>3,013,825</td>\n",
       "    </tr>\n",
       "    <tr>\n",
       "      <th>4</th>\n",
       "      <td>CA</td>\n",
       "      <td>37,320,903</td>\n",
       "      <td>37,641,823</td>\n",
       "      <td>37,960,782</td>\n",
       "      <td>38,280,824</td>\n",
       "      <td>38,625,139</td>\n",
       "      <td>38,953,142</td>\n",
       "      <td>39,209,127</td>\n",
       "      <td>39,399,349</td>\n",
       "      <td>39,557,045</td>\n",
       "    </tr>\n",
       "  </tbody>\n",
       "</table>\n",
       "</div>"
      ],
      "text/plain": [
       "  Geographic Area        2010        2011        2012        2013        2014  \\\n",
       "0              AL   4,785,448   4,798,834   4,815,564   4,830,460   4,842,481   \n",
       "1              AK     713,906     722,038     730,399     737,045     736,307   \n",
       "2              AZ   6,407,774   6,473,497   6,556,629   6,634,999   6,733,840   \n",
       "3              AR   2,921,978   2,940,407   2,952,109   2,959,549   2,967,726   \n",
       "4              CA  37,320,903  37,641,823  37,960,782  38,280,824  38,625,139   \n",
       "\n",
       "         2015        2016        2017        2018  \n",
       "0   4,853,160   4,864,745   4,875,120   4,887,871  \n",
       "1     737,547     741,504     739,786     737,438  \n",
       "2   6,833,596   6,945,452   7,048,876   7,171,646  \n",
       "3   2,978,407   2,990,410   3,002,997   3,013,825  \n",
       "4  38,953,142  39,209,127  39,399,349  39,557,045  "
      ]
     },
     "execution_count": 7,
     "metadata": {},
     "output_type": "execute_result"
    }
   ],
   "source": [
    "population_df.head()"
   ]
  },
  {
   "cell_type": "code",
   "execution_count": 8,
   "metadata": {},
   "outputs": [
    {
     "data": {
      "text/html": [
       "<div>\n",
       "<style scoped>\n",
       "    .dataframe tbody tr th:only-of-type {\n",
       "        vertical-align: middle;\n",
       "    }\n",
       "\n",
       "    .dataframe tbody tr th {\n",
       "        vertical-align: top;\n",
       "    }\n",
       "\n",
       "    .dataframe thead th {\n",
       "        text-align: right;\n",
       "    }\n",
       "</style>\n",
       "<table border=\"1\" class=\"dataframe\">\n",
       "  <thead>\n",
       "    <tr style=\"text-align: right;\">\n",
       "      <th></th>\n",
       "      <th>Geographic Area</th>\n",
       "      <th>2010</th>\n",
       "      <th>2011</th>\n",
       "      <th>2012</th>\n",
       "      <th>2013</th>\n",
       "      <th>2014</th>\n",
       "      <th>2015</th>\n",
       "      <th>2016</th>\n",
       "      <th>2017</th>\n",
       "      <th>2018</th>\n",
       "    </tr>\n",
       "  </thead>\n",
       "  <tbody>\n",
       "    <tr>\n",
       "      <th>0</th>\n",
       "      <td>AL</td>\n",
       "      <td>4785448</td>\n",
       "      <td>4798834</td>\n",
       "      <td>4815564</td>\n",
       "      <td>4830460</td>\n",
       "      <td>4842481</td>\n",
       "      <td>4853160</td>\n",
       "      <td>4864745</td>\n",
       "      <td>4875120</td>\n",
       "      <td>4887871</td>\n",
       "    </tr>\n",
       "    <tr>\n",
       "      <th>1</th>\n",
       "      <td>AK</td>\n",
       "      <td>713906</td>\n",
       "      <td>722038</td>\n",
       "      <td>730399</td>\n",
       "      <td>737045</td>\n",
       "      <td>736307</td>\n",
       "      <td>737547</td>\n",
       "      <td>741504</td>\n",
       "      <td>739786</td>\n",
       "      <td>737438</td>\n",
       "    </tr>\n",
       "    <tr>\n",
       "      <th>2</th>\n",
       "      <td>AZ</td>\n",
       "      <td>6407774</td>\n",
       "      <td>6473497</td>\n",
       "      <td>6556629</td>\n",
       "      <td>6634999</td>\n",
       "      <td>6733840</td>\n",
       "      <td>6833596</td>\n",
       "      <td>6945452</td>\n",
       "      <td>7048876</td>\n",
       "      <td>7171646</td>\n",
       "    </tr>\n",
       "    <tr>\n",
       "      <th>3</th>\n",
       "      <td>AR</td>\n",
       "      <td>2921978</td>\n",
       "      <td>2940407</td>\n",
       "      <td>2952109</td>\n",
       "      <td>2959549</td>\n",
       "      <td>2967726</td>\n",
       "      <td>2978407</td>\n",
       "      <td>2990410</td>\n",
       "      <td>3002997</td>\n",
       "      <td>3013825</td>\n",
       "    </tr>\n",
       "    <tr>\n",
       "      <th>4</th>\n",
       "      <td>CA</td>\n",
       "      <td>37320903</td>\n",
       "      <td>37641823</td>\n",
       "      <td>37960782</td>\n",
       "      <td>38280824</td>\n",
       "      <td>38625139</td>\n",
       "      <td>38953142</td>\n",
       "      <td>39209127</td>\n",
       "      <td>39399349</td>\n",
       "      <td>39557045</td>\n",
       "    </tr>\n",
       "  </tbody>\n",
       "</table>\n",
       "</div>"
      ],
      "text/plain": [
       "  Geographic Area      2010      2011      2012      2013      2014      2015  \\\n",
       "0              AL   4785448   4798834   4815564   4830460   4842481   4853160   \n",
       "1              AK    713906    722038    730399    737045    736307    737547   \n",
       "2              AZ   6407774   6473497   6556629   6634999   6733840   6833596   \n",
       "3              AR   2921978   2940407   2952109   2959549   2967726   2978407   \n",
       "4              CA  37320903  37641823  37960782  38280824  38625139  38953142   \n",
       "\n",
       "       2016      2017      2018  \n",
       "0   4864745   4875120   4887871  \n",
       "1    741504    739786    737438  \n",
       "2   6945452   7048876   7171646  \n",
       "3   2990410   3002997   3013825  \n",
       "4  39209127  39399349  39557045  "
      ]
     },
     "execution_count": 8,
     "metadata": {},
     "output_type": "execute_result"
    }
   ],
   "source": [
    "\n",
    "column_names = population_df.columns\n",
    "\n",
    "for column_name in column_names:\n",
    "    population_df[column_name]=population_df[column_name].apply(lambda x: x.replace(',',''))\n",
    "population_df.head()\n"
   ]
  },
  {
   "cell_type": "code",
   "execution_count": 9,
   "metadata": {},
   "outputs": [
    {
     "name": "stdout",
     "output_type": "stream",
     "text": [
      "<class 'pandas.core.frame.DataFrame'>\n",
      "RangeIndex: 51 entries, 0 to 50\n",
      "Data columns (total 10 columns):\n",
      "Geographic Area    51 non-null object\n",
      "2010               51 non-null int64\n",
      "2011               51 non-null int64\n",
      "2012               51 non-null int64\n",
      "2013               51 non-null int64\n",
      "2014               51 non-null int64\n",
      "2015               51 non-null int64\n",
      "2016               51 non-null int64\n",
      "2017               51 non-null int64\n",
      "2018               51 non-null int64\n",
      "dtypes: int64(9), object(1)\n",
      "memory usage: 4.1+ KB\n"
     ]
    }
   ],
   "source": [
    "for column_name in column_names[1:]:\n",
    "    population_df[column_name] = population_df[column_name].astype(int)\n",
    "population_df.info()"
   ]
  },
  {
   "cell_type": "code",
   "execution_count": 11,
   "metadata": {
    "scrolled": false
   },
   "outputs": [
    {
     "data": {
      "text/html": [
       "<div>\n",
       "<style scoped>\n",
       "    .dataframe tbody tr th:only-of-type {\n",
       "        vertical-align: middle;\n",
       "    }\n",
       "\n",
       "    .dataframe tbody tr th {\n",
       "        vertical-align: top;\n",
       "    }\n",
       "\n",
       "    .dataframe thead th {\n",
       "        text-align: right;\n",
       "    }\n",
       "</style>\n",
       "<table border=\"1\" class=\"dataframe\">\n",
       "  <thead>\n",
       "    <tr style=\"text-align: right;\">\n",
       "      <th></th>\n",
       "      <th>City</th>\n",
       "      <th>State</th>\n",
       "      <th>Shape</th>\n",
       "      <th>Duration</th>\n",
       "      <th>Summary</th>\n",
       "      <th>Date_Posted</th>\n",
       "      <th>Duration_sec</th>\n",
       "      <th>event_date</th>\n",
       "    </tr>\n",
       "  </thead>\n",
       "  <tbody>\n",
       "    <tr>\n",
       "      <th>0</th>\n",
       "      <td>Cincinnati</td>\n",
       "      <td>OH</td>\n",
       "      <td>triangle</td>\n",
       "      <td>15 seconds</td>\n",
       "      <td>Large V/triangle-shaped craft that moved silen...</td>\n",
       "      <td>5/9/19</td>\n",
       "      <td>15.0</td>\n",
       "      <td>2019-05-09 21:15:00</td>\n",
       "    </tr>\n",
       "    <tr>\n",
       "      <th>1</th>\n",
       "      <td>Statesboro</td>\n",
       "      <td>GA</td>\n",
       "      <td>triangle</td>\n",
       "      <td>20 seconds</td>\n",
       "      <td>Two UFO's near Statesboro, Ga. 11:00 PM 5-9-2019.</td>\n",
       "      <td>5/9/19</td>\n",
       "      <td>20.0</td>\n",
       "      <td>2019-05-08 23:00:00</td>\n",
       "    </tr>\n",
       "    <tr>\n",
       "      <th>2</th>\n",
       "      <td>Norfolk</td>\n",
       "      <td>VA</td>\n",
       "      <td>light</td>\n",
       "      <td>&gt;10 minutes</td>\n",
       "      <td>Extremely loud bang, light spotted in sky.</td>\n",
       "      <td>5/9/19</td>\n",
       "      <td>600.0</td>\n",
       "      <td>2019-05-08 23:00:00</td>\n",
       "    </tr>\n",
       "    <tr>\n",
       "      <th>3</th>\n",
       "      <td>Saint George</td>\n",
       "      <td>UT</td>\n",
       "      <td>other</td>\n",
       "      <td>1:30</td>\n",
       "      <td>Started noticing a huge flash of light @ aroun...</td>\n",
       "      <td>5/9/19</td>\n",
       "      <td>90.0</td>\n",
       "      <td>2019-05-08 01:30:00</td>\n",
       "    </tr>\n",
       "    <tr>\n",
       "      <th>4</th>\n",
       "      <td>Highlands</td>\n",
       "      <td>NC</td>\n",
       "      <td>light</td>\n",
       "      <td>1 minute</td>\n",
       "      <td>I have about 10 recordings from last night on ...</td>\n",
       "      <td>5/9/19</td>\n",
       "      <td>60.0</td>\n",
       "      <td>2019-05-08 01:00:00</td>\n",
       "    </tr>\n",
       "  </tbody>\n",
       "</table>\n",
       "</div>"
      ],
      "text/plain": [
       "           City State     Shape     Duration  \\\n",
       "0    Cincinnati    OH  triangle   15 seconds   \n",
       "1    Statesboro    GA  triangle   20 seconds   \n",
       "2       Norfolk    VA     light  >10 minutes   \n",
       "3  Saint George    UT     other         1:30   \n",
       "4     Highlands    NC     light     1 minute   \n",
       "\n",
       "                                             Summary Date_Posted Duration_sec  \\\n",
       "0  Large V/triangle-shaped craft that moved silen...      5/9/19         15.0   \n",
       "1  Two UFO's near Statesboro, Ga. 11:00 PM 5-9-2019.      5/9/19         20.0   \n",
       "2         Extremely loud bang, light spotted in sky.      5/9/19        600.0   \n",
       "3  Started noticing a huge flash of light @ aroun...      5/9/19         90.0   \n",
       "4  I have about 10 recordings from last night on ...      5/9/19         60.0   \n",
       "\n",
       "            event_date  \n",
       "0  2019-05-09 21:15:00  \n",
       "1  2019-05-08 23:00:00  \n",
       "2  2019-05-08 23:00:00  \n",
       "3  2019-05-08 01:30:00  \n",
       "4  2019-05-08 01:00:00  "
      ]
     },
     "execution_count": 11,
     "metadata": {},
     "output_type": "execute_result"
    }
   ],
   "source": [
    "c.execute('''select * from ufos''')\n",
    "ufo_df = pd.DataFrame(c.fetchall())\n",
    "ufo_df.columns = [i[0] for i in c.description]\n",
    "ufo_df.head()"
   ]
  },
  {
   "cell_type": "code",
   "execution_count": 13,
   "metadata": {},
   "outputs": [
    {
     "data": {
      "text/html": [
       "<div>\n",
       "<style scoped>\n",
       "    .dataframe tbody tr th:only-of-type {\n",
       "        vertical-align: middle;\n",
       "    }\n",
       "\n",
       "    .dataframe tbody tr th {\n",
       "        vertical-align: top;\n",
       "    }\n",
       "\n",
       "    .dataframe thead th {\n",
       "        text-align: right;\n",
       "    }\n",
       "</style>\n",
       "<table border=\"1\" class=\"dataframe\">\n",
       "  <thead>\n",
       "    <tr style=\"text-align: right;\">\n",
       "      <th></th>\n",
       "      <th>City</th>\n",
       "      <th>State</th>\n",
       "      <th>Shape</th>\n",
       "      <th>Duration</th>\n",
       "      <th>Summary</th>\n",
       "      <th>Date_Posted</th>\n",
       "      <th>Duration_sec</th>\n",
       "      <th>event_date</th>\n",
       "    </tr>\n",
       "  </thead>\n",
       "  <tbody>\n",
       "    <tr>\n",
       "      <th>0</th>\n",
       "      <td>Cincinnati</td>\n",
       "      <td>OH</td>\n",
       "      <td>triangle</td>\n",
       "      <td>15 seconds</td>\n",
       "      <td>Large V/triangle-shaped craft that moved silen...</td>\n",
       "      <td>5/9/19</td>\n",
       "      <td>15.0</td>\n",
       "      <td>2019-05-09 21:15:00</td>\n",
       "    </tr>\n",
       "    <tr>\n",
       "      <th>1</th>\n",
       "      <td>Statesboro</td>\n",
       "      <td>GA</td>\n",
       "      <td>triangle</td>\n",
       "      <td>20 seconds</td>\n",
       "      <td>Two UFO's near Statesboro, Ga. 11:00 PM 5-9-2019.</td>\n",
       "      <td>5/9/19</td>\n",
       "      <td>20.0</td>\n",
       "      <td>2019-05-08 23:00:00</td>\n",
       "    </tr>\n",
       "    <tr>\n",
       "      <th>2</th>\n",
       "      <td>Norfolk</td>\n",
       "      <td>VA</td>\n",
       "      <td>light</td>\n",
       "      <td>&gt;10 minutes</td>\n",
       "      <td>Extremely loud bang, light spotted in sky.</td>\n",
       "      <td>5/9/19</td>\n",
       "      <td>600.0</td>\n",
       "      <td>2019-05-08 23:00:00</td>\n",
       "    </tr>\n",
       "    <tr>\n",
       "      <th>3</th>\n",
       "      <td>Saint George</td>\n",
       "      <td>UT</td>\n",
       "      <td>other</td>\n",
       "      <td>1:30</td>\n",
       "      <td>Started noticing a huge flash of light @ aroun...</td>\n",
       "      <td>5/9/19</td>\n",
       "      <td>90.0</td>\n",
       "      <td>2019-05-08 01:30:00</td>\n",
       "    </tr>\n",
       "    <tr>\n",
       "      <th>4</th>\n",
       "      <td>Highlands</td>\n",
       "      <td>NC</td>\n",
       "      <td>light</td>\n",
       "      <td>1 minute</td>\n",
       "      <td>I have about 10 recordings from last night on ...</td>\n",
       "      <td>5/9/19</td>\n",
       "      <td>60.0</td>\n",
       "      <td>2019-05-08 01:00:00</td>\n",
       "    </tr>\n",
       "  </tbody>\n",
       "</table>\n",
       "</div>"
      ],
      "text/plain": [
       "           City State     Shape     Duration  \\\n",
       "0    Cincinnati    OH  triangle   15 seconds   \n",
       "1    Statesboro    GA  triangle   20 seconds   \n",
       "2       Norfolk    VA     light  >10 minutes   \n",
       "3  Saint George    UT     other         1:30   \n",
       "4     Highlands    NC     light     1 minute   \n",
       "\n",
       "                                             Summary Date_Posted Duration_sec  \\\n",
       "0  Large V/triangle-shaped craft that moved silen...      5/9/19         15.0   \n",
       "1  Two UFO's near Statesboro, Ga. 11:00 PM 5-9-2019.      5/9/19         20.0   \n",
       "2         Extremely loud bang, light spotted in sky.      5/9/19        600.0   \n",
       "3  Started noticing a huge flash of light @ aroun...      5/9/19         90.0   \n",
       "4  I have about 10 recordings from last night on ...      5/9/19         60.0   \n",
       "\n",
       "            event_date  \n",
       "0  2019-05-09 21:15:00  \n",
       "1  2019-05-08 23:00:00  \n",
       "2  2019-05-08 23:00:00  \n",
       "3  2019-05-08 01:30:00  \n",
       "4  2019-05-08 01:00:00  "
      ]
     },
     "execution_count": 13,
     "metadata": {},
     "output_type": "execute_result"
    }
   ],
   "source": [
    "ufo_df.head()"
   ]
  },
  {
   "cell_type": "markdown",
   "metadata": {},
   "source": [
    "#### 4. Display the data from the database as a dataframe."
   ]
  },
  {
   "cell_type": "code",
   "execution_count": 14,
   "metadata": {},
   "outputs": [],
   "source": [
    "ufo_df.Duration_sec=ufo_df.Duration_sec.astype(float)"
   ]
  },
  {
   "cell_type": "markdown",
   "metadata": {},
   "source": [
    "#### 5. Data Exploration and Cleaning."
   ]
  },
  {
   "cell_type": "code",
   "execution_count": null,
   "metadata": {},
   "outputs": [],
   "source": [
    "c.execute('''select * from ufos where state in ('DC','VA', 'MD') ''')\n",
    "ufo_df_dc_metro = pd.DataFrame(c.fetchall())\n",
    "ufo_df_dc_metro.columns = [i[0] for i in c.description]"
   ]
  },
  {
   "cell_type": "code",
   "execution_count": null,
   "metadata": {},
   "outputs": [],
   "source": [
    "ufo_df_dc"
   ]
  },
  {
   "cell_type": "code",
   "execution_count": null,
   "metadata": {},
   "outputs": [],
   "source": [
    "c.execute('''select * from ufos where state= 'CA' ''')\n",
    "ufo_df_ca = pd.DataFrame(c.fetchall())\n",
    "ufo_df_ca.columns = [i[0] for i in c.description]"
   ]
  },
  {
   "cell_type": "code",
   "execution_count": null,
   "metadata": {},
   "outputs": [],
   "source": [
    "ufo_df.Duration_sec.isna().sum()"
   ]
  },
  {
   "cell_type": "code",
   "execution_count": null,
   "metadata": {},
   "outputs": [],
   "source": [
    "ufo_df_ca.Duration_sec=ufo_df_ca.Duration_sec.astype(float)\n",
    "ufo_df_dc_metro.Duration_sec=ufo_df_dc_metro.Duration_sec.astype(float)\n",
    "fig = plt.figure(figsize=(10,8))\n",
    "sns.distplot(ufo_df_ca[ufo_df_ca.Duration_sec<2000]['Duration_sec'], bins=50, label='CA')\n",
    "sns.distplot(ufo_df_dc_metro[ufo_df_dc_metro.Duration_sec<2000]['Duration_sec'], bins=50, label='DC')\n",
    "plt.semilogy(True)\n",
    "plt.ylabel('Frequency of Sights')\n",
    "plt.xlabel('Duration in Seconds')\n",
    "plt.legend()\n",
    "# plt.xlim(0,20000)"
   ]
  },
  {
   "cell_type": "code",
   "execution_count": null,
   "metadata": {},
   "outputs": [],
   "source": [
    "ttest_ind(ufo_df_ca[ufo_df_ca.Duration_sec<2000]['Duration_sec'],\n",
    "          ufo_df_dc_metro[ufo_df_dc_metro.Duration_sec<2000]['Duration_sec'] ,\n",
    "          equal_var=False)\n"
   ]
  },
  {
   "cell_type": "code",
   "execution_count": null,
   "metadata": {},
   "outputs": [],
   "source": [
    "# The p-value is less than 0.05 so we reject the null hypothesis and there is a\n",
    "# difference between the duration of sightings in CA vs DC. "
   ]
  },
  {
   "cell_type": "code",
   "execution_count": null,
   "metadata": {},
   "outputs": [],
   "source": [
    "len(ufo_df_ca.Duration_sec<2000)"
   ]
  },
  {
   "cell_type": "code",
   "execution_count": null,
   "metadata": {},
   "outputs": [],
   "source": [
    "len(ufo_df_dc.Duration_sec<2000)"
   ]
  },
  {
   "cell_type": "code",
   "execution_count": null,
   "metadata": {},
   "outputs": [],
   "source": [
    "# ufo_df"
   ]
  },
  {
   "cell_type": "code",
   "execution_count": null,
   "metadata": {},
   "outputs": [],
   "source": [
    "ufo_df.Duration_sec=ufo_df.Duration_sec.astype(float)\n",
    "fig = plt.figure(figsize=(10,8))\n",
    "sns.distplot(ufo_df[(ufo_df.Shape=='light')&(ufo_df.Duration_sec<2000)]['Duration_sec'], bins=50, label='CA')\n",
    "sns.distplot(ufo_df[(ufo_df.Shape=='circle')&(ufo_df.Duration_sec<2000)]['Duration_sec'], bins=50, label='DC')\n",
    "plt.semilogy(True)\n",
    "plt.ylabel('Frequency of Sights')\n",
    "plt.xlabel('Duration in Seconds')\n",
    "plt.legend()"
   ]
  },
  {
   "cell_type": "code",
   "execution_count": null,
   "metadata": {},
   "outputs": [],
   "source": [
    "ttest_ind(ufo_df[(ufo_df.Shape=='light')&(ufo_df.Duration_sec<2000)]['Duration_sec'],\n",
    "          ufo_df[(ufo_df.Shape=='circle')&(ufo_df.Duration_sec<2000)]['Duration_sec'] ,\n",
    "          equal_var=False)"
   ]
  },
  {
   "cell_type": "code",
   "execution_count": null,
   "metadata": {},
   "outputs": [],
   "source": [
    "ttest_ind(ufo_df[(ufo_df.Shape=='light')&(ufo_df.Duration_sec<100)]['Duration_sec'],\n",
    "          ufo_df[(ufo_df.Shape=='circle')&(ufo_df.Duration_sec<100)]['Duration_sec'] ,\n",
    "          equal_var=False)"
   ]
  },
  {
   "cell_type": "code",
   "execution_count": null,
   "metadata": {},
   "outputs": [],
   "source": [
    "ttest_ind(ufo_df[(ufo_df.Shape=='light')]['Duration_sec'],\n",
    "          ufo_df[(ufo_df.Shape=='circle')]['Duration_sec'] ,\n",
    "          equal_var=False)"
   ]
  },
  {
   "cell_type": "code",
   "execution_count": null,
   "metadata": {},
   "outputs": [],
   "source": [
    "ttest_ind(ufo_df[(ufo_df.Shape=='light')&(ufo_df.Duration_sec<2000)]['Duration_sec'],\n",
    "          ufo_df[(ufo_df.Shape=='sphere')&(ufo_df.Duration_sec<2000)]['Duration_sec'] ,\n",
    "          equal_var=False)"
   ]
  },
  {
   "cell_type": "code",
   "execution_count": null,
   "metadata": {},
   "outputs": [],
   "source": [
    "ufo_df.Duration_sec=ufo_df.Duration_sec.astype(float)\n",
    "fig = plt.figure(figsize=(10,8))\n",
    "sns.distplot(ufo_df[(ufo_df.Shape=='sphere')&(ufo_df.Duration_sec<500)]['Duration_sec'], bins=50, label='CA')\n",
    "sns.distplot(ufo_df[(ufo_df.Shape=='chevron')&(ufo_df.Duration_sec<500)]['Duration_sec'], bins=50, label='DC')\n",
    "plt.semilogy(True)\n",
    "plt.ylabel('Frequency of Sights')\n",
    "plt.xlabel('Duration in Seconds')\n",
    "plt.legend()"
   ]
  },
  {
   "cell_type": "code",
   "execution_count": null,
   "metadata": {
    "scrolled": true
   },
   "outputs": [],
   "source": [
    "ttest_ind(ufo_df[(ufo_df.Shape=='chevron')&(ufo_df.Duration_sec<500)]['Duration_sec'],\n",
    "          ufo_df[(ufo_df.Shape=='sphere')&(ufo_df.Duration_sec<500)]['Duration_sec'] ,\n",
    "          equal_var=False)"
   ]
  },
  {
   "cell_type": "code",
   "execution_count": null,
   "metadata": {
    "scrolled": true
   },
   "outputs": [],
   "source": [
    "ufo_df.Shape.value_counts()"
   ]
  },
  {
   "cell_type": "markdown",
   "metadata": {},
   "source": [
    "### Plan\n",
    "\n",
    "We have two questions already. \n",
    "\n",
    "Next Steps: \n",
    "1. Fix 15_20 duration and military time. \n",
    "2. Find Census data for population for CA and DC metro area for specific years. (3rd question)\n",
    "3. Create db of the census data. \n",
    "4. How do the ufo shapes compare between 1960s vs 2000s? Does a certain shape last longer in 1960s vs now? \n",
    "5. Is there a difference between the number of sightings per population for a specific region for specific year/decade? "
   ]
  },
  {
   "cell_type": "markdown",
   "metadata": {},
   "source": [
    "For DC metro and CA:\n",
    "\n",
    "First Question: How does CA vs DC metro area differ in terms of number of durations? - bootstrap & ttest\n",
    "\n",
    "1. From CA distribution, we pick 500 numbers randomly from those numbers we record the mean and the standard deviation. Repeat 1000 times. \n",
    "\n",
    "2. Plot a distribution plot of the means found in 1. This should look like a normal distribution. \n",
    "\n",
    "3. Repeat the same process for DC metro. \n",
    "\n",
    "4. Apply the t-test on the two new distributions. \n",
    "\n",
    "Second Question: How different are the durations between shapes? - (boot strap + ttest)\n",
    "\n",
    "5. Choose two shapes and do 1-4 on those. This is the second question. \n",
    "\n",
    "6. Use CA group by year and count the number of events. \n",
    "\n",
    "Third Question: Number of sights per capital \n",
    "\n",
    "\n"
   ]
  },
  {
   "cell_type": "markdown",
   "metadata": {},
   "source": [
    "Bootstrap for states"
   ]
  },
  {
   "cell_type": "code",
   "execution_count": null,
   "metadata": {},
   "outputs": [],
   "source": [
    "ca_means = []\n",
    "for i in range(1000):\n",
    "    x_ca = np.random.choice(ufo_df_ca['Duration_sec'],size=500)\n",
    "    ca_means.append(x_ca.mean())"
   ]
  },
  {
   "cell_type": "code",
   "execution_count": null,
   "metadata": {},
   "outputs": [],
   "source": [
    "dc_means = []\n",
    "for i in range(1000):\n",
    "    x_dc = np.random.choice(ufo_df_dc_metro['Duration_sec'],size=500)\n",
    "    dc_means.append(x_dc.mean())"
   ]
  },
  {
   "cell_type": "code",
   "execution_count": null,
   "metadata": {},
   "outputs": [],
   "source": [
    "# ca_means"
   ]
  },
  {
   "cell_type": "code",
   "execution_count": null,
   "metadata": {},
   "outputs": [],
   "source": [
    "fig = plt.figure(figsize=(10,8))\n",
    "sns.distplot(ca_means, label='CA')\n",
    "sns.distplot(dc_means, label='DC')\n",
    "plt.ylabel('Frequency')\n",
    "plt.xlabel('Mean Duration in Seconds')\n",
    "plt.legend()"
   ]
  },
  {
   "cell_type": "code",
   "execution_count": null,
   "metadata": {},
   "outputs": [],
   "source": [
    "ttest_ind(ca_means,\n",
    "          dc_means ,\n",
    "          equal_var=False)"
   ]
  },
  {
   "cell_type": "markdown",
   "metadata": {},
   "source": [
    "The duration between east and west coast is the same, we do not reject the null hypothesis which was they are the same. "
   ]
  },
  {
   "cell_type": "code",
   "execution_count": null,
   "metadata": {},
   "outputs": [],
   "source": [
    "np.array(ca_means).std()"
   ]
  },
  {
   "cell_type": "code",
   "execution_count": null,
   "metadata": {},
   "outputs": [],
   "source": [
    "np.array(dc_means).std()"
   ]
  },
  {
   "cell_type": "markdown",
   "metadata": {},
   "source": [
    "Checking out the shapes"
   ]
  },
  {
   "cell_type": "code",
   "execution_count": null,
   "metadata": {},
   "outputs": [],
   "source": [
    "circle_means = []\n",
    "for i in range(1000):\n",
    "    x_circle = np.random.choice(ufo_df[ufo_df.Shape=='circle']['Duration_sec'],size=500)\n",
    "    circle_means.append(x_circle.mean())"
   ]
  },
  {
   "cell_type": "code",
   "execution_count": null,
   "metadata": {},
   "outputs": [],
   "source": [
    "triangle_means = []\n",
    "for i in range(1000):\n",
    "    x_triangle = np.random.choice(ufo_df[ufo_df.Shape=='triangle']['Duration_sec'],size=500)\n",
    "    triangle_means.append(x_triangle.mean())"
   ]
  },
  {
   "cell_type": "code",
   "execution_count": null,
   "metadata": {},
   "outputs": [],
   "source": [
    "fig = plt.figure(figsize=(10,8))\n",
    "sns.distplot(circle_means, label='Circle')\n",
    "sns.distplot(triangle_means, label='Triangle')\n",
    "plt.ylabel('Frequency')\n",
    "plt.xlabel('Mean Duration in Seconds')\n",
    "plt.legend()"
   ]
  },
  {
   "cell_type": "code",
   "execution_count": null,
   "metadata": {},
   "outputs": [],
   "source": [
    "ttest_ind(circle_means,\n",
    "          triangle_means ,\n",
    "          equal_var=False)"
   ]
  },
  {
   "cell_type": "markdown",
   "metadata": {},
   "source": [
    "The null hypothesis was that people see them the same amount of time, but in this case people see circles longer. "
   ]
  },
  {
   "cell_type": "markdown",
   "metadata": {},
   "source": [
    "### Joining with population_df etc. "
   ]
  },
  {
   "cell_type": "code",
   "execution_count": 20,
   "metadata": {},
   "outputs": [
    {
     "data": {
      "text/html": [
       "<div>\n",
       "<style scoped>\n",
       "    .dataframe tbody tr th:only-of-type {\n",
       "        vertical-align: middle;\n",
       "    }\n",
       "\n",
       "    .dataframe tbody tr th {\n",
       "        vertical-align: top;\n",
       "    }\n",
       "\n",
       "    .dataframe thead th {\n",
       "        text-align: right;\n",
       "    }\n",
       "</style>\n",
       "<table border=\"1\" class=\"dataframe\">\n",
       "  <thead>\n",
       "    <tr style=\"text-align: right;\">\n",
       "      <th></th>\n",
       "      <th>State</th>\n",
       "      <th>Counts</th>\n",
       "    </tr>\n",
       "  </thead>\n",
       "  <tbody>\n",
       "    <tr>\n",
       "      <th>0</th>\n",
       "      <td>AB</td>\n",
       "      <td>425</td>\n",
       "    </tr>\n",
       "    <tr>\n",
       "      <th>1</th>\n",
       "      <td>AK</td>\n",
       "      <td>456</td>\n",
       "    </tr>\n",
       "    <tr>\n",
       "      <th>2</th>\n",
       "      <td>AL</td>\n",
       "      <td>853</td>\n",
       "    </tr>\n",
       "    <tr>\n",
       "      <th>3</th>\n",
       "      <td>AR</td>\n",
       "      <td>730</td>\n",
       "    </tr>\n",
       "    <tr>\n",
       "      <th>4</th>\n",
       "      <td>AZ</td>\n",
       "      <td>3213</td>\n",
       "    </tr>\n",
       "  </tbody>\n",
       "</table>\n",
       "</div>"
      ],
      "text/plain": [
       "  State  Counts\n",
       "0    AB     425\n",
       "1    AK     456\n",
       "2    AL     853\n",
       "3    AR     730\n",
       "4    AZ    3213"
      ]
     },
     "execution_count": 20,
     "metadata": {},
     "output_type": "execute_result"
    }
   ],
   "source": [
    "c.execute('''select state, count(shape) as Counts from ufos group by state''')\n",
    "ufo_df_groupstate = pd.DataFrame(c.fetchall())\n",
    "ufo_df_groupstate.columns = [i[0] for i in c.description]\n",
    "ufo_df_groupstate.head()"
   ]
  },
  {
   "cell_type": "code",
   "execution_count": 83,
   "metadata": {
    "scrolled": true
   },
   "outputs": [
    {
     "data": {
      "text/html": [
       "<div>\n",
       "<style scoped>\n",
       "    .dataframe tbody tr th:only-of-type {\n",
       "        vertical-align: middle;\n",
       "    }\n",
       "\n",
       "    .dataframe tbody tr th {\n",
       "        vertical-align: top;\n",
       "    }\n",
       "\n",
       "    .dataframe thead th {\n",
       "        text-align: right;\n",
       "    }\n",
       "</style>\n",
       "<table border=\"1\" class=\"dataframe\">\n",
       "  <thead>\n",
       "    <tr style=\"text-align: right;\">\n",
       "      <th></th>\n",
       "      <th>state</th>\n",
       "      <th>2010</th>\n",
       "    </tr>\n",
       "  </thead>\n",
       "  <tbody>\n",
       "    <tr>\n",
       "      <th>0</th>\n",
       "      <td>AB</td>\n",
       "      <td>19</td>\n",
       "    </tr>\n",
       "    <tr>\n",
       "      <th>1</th>\n",
       "      <td>AK</td>\n",
       "      <td>11</td>\n",
       "    </tr>\n",
       "    <tr>\n",
       "      <th>2</th>\n",
       "      <td>AL</td>\n",
       "      <td>20</td>\n",
       "    </tr>\n",
       "    <tr>\n",
       "      <th>3</th>\n",
       "      <td>AR</td>\n",
       "      <td>37</td>\n",
       "    </tr>\n",
       "    <tr>\n",
       "      <th>4</th>\n",
       "      <td>AZ</td>\n",
       "      <td>94</td>\n",
       "    </tr>\n",
       "  </tbody>\n",
       "</table>\n",
       "</div>"
      ],
      "text/plain": [
       "  state  2010\n",
       "0    AB    19\n",
       "1    AK    11\n",
       "2    AL    20\n",
       "3    AR    37\n",
       "4    AZ    94"
      ]
     },
     "execution_count": 83,
     "metadata": {},
     "output_type": "execute_result"
    }
   ],
   "source": [
    "c.execute('''select state, counts as '2010' from \n",
    "            (select state, count(shape) as counts, strftime('%Y',event_date) as year from ufos \n",
    "            group by strftime('%Y',event_date), state)\n",
    "            where year = '2010'\n",
    "            ''')\n",
    "ufo_df_groupstate = pd.DataFrame(c.fetchall())\n",
    "ufo_df_groupstate.columns = [i[0] for i in c.description]\n",
    "ufo_df_groupstate.head()"
   ]
  },
  {
   "cell_type": "code",
   "execution_count": 107,
   "metadata": {},
   "outputs": [
    {
     "data": {
      "text/html": [
       "<div>\n",
       "<style scoped>\n",
       "    .dataframe tbody tr th:only-of-type {\n",
       "        vertical-align: middle;\n",
       "    }\n",
       "\n",
       "    .dataframe tbody tr th {\n",
       "        vertical-align: top;\n",
       "    }\n",
       "\n",
       "    .dataframe thead th {\n",
       "        text-align: right;\n",
       "    }\n",
       "</style>\n",
       "<table border=\"1\" class=\"dataframe\">\n",
       "  <thead>\n",
       "    <tr style=\"text-align: right;\">\n",
       "      <th></th>\n",
       "      <th>state</th>\n",
       "      <th>count('y2010')</th>\n",
       "      <th>count('y2011')</th>\n",
       "    </tr>\n",
       "  </thead>\n",
       "  <tbody>\n",
       "    <tr>\n",
       "      <th>0</th>\n",
       "      <td>AB</td>\n",
       "      <td>43</td>\n",
       "      <td>43</td>\n",
       "    </tr>\n",
       "    <tr>\n",
       "      <th>1</th>\n",
       "      <td>AK</td>\n",
       "      <td>50</td>\n",
       "      <td>50</td>\n",
       "    </tr>\n",
       "    <tr>\n",
       "      <th>2</th>\n",
       "      <td>AL</td>\n",
       "      <td>51</td>\n",
       "      <td>51</td>\n",
       "    </tr>\n",
       "    <tr>\n",
       "      <th>3</th>\n",
       "      <td>AR</td>\n",
       "      <td>59</td>\n",
       "      <td>59</td>\n",
       "    </tr>\n",
       "    <tr>\n",
       "      <th>4</th>\n",
       "      <td>AZ</td>\n",
       "      <td>60</td>\n",
       "      <td>60</td>\n",
       "    </tr>\n",
       "  </tbody>\n",
       "</table>\n",
       "</div>"
      ],
      "text/plain": [
       "  state  count('y2010')  count('y2011')\n",
       "0    AB              43              43\n",
       "1    AK              50              50\n",
       "2    AL              51              51\n",
       "3    AR              59              59\n",
       "4    AZ              60              60"
      ]
     },
     "execution_count": 107,
     "metadata": {},
     "output_type": "execute_result"
    }
   ],
   "source": [
    "c.execute('''select state, count('y2010'), count('y2011') from\n",
    "            (select state, \n",
    "            count(case when strftime('%Y',event_date) = '2010' then shape end) as 'y2010', \n",
    "            count(case when strftime('%Y',event_date) = '2011' then shape end) as 'y2011',\n",
    "            strftime('%Y',event_date) as year from ufos \n",
    "            group by strftime('%Y',event_date), state)\n",
    "            group by state\n",
    "            ''')\n",
    "ufo_df_groupstate = pd.DataFrame(c.fetchall())\n",
    "ufo_df_groupstate.columns = [i[0] for i in c.description]\n",
    "ufo_df_groupstate.head()"
   ]
  },
  {
   "cell_type": "code",
   "execution_count": 113,
   "metadata": {},
   "outputs": [
    {
     "data": {
      "text/html": [
       "<div>\n",
       "<style scoped>\n",
       "    .dataframe tbody tr th:only-of-type {\n",
       "        vertical-align: middle;\n",
       "    }\n",
       "\n",
       "    .dataframe tbody tr th {\n",
       "        vertical-align: top;\n",
       "    }\n",
       "\n",
       "    .dataframe thead th {\n",
       "        text-align: right;\n",
       "    }\n",
       "</style>\n",
       "<table border=\"1\" class=\"dataframe\">\n",
       "  <thead>\n",
       "    <tr style=\"text-align: right;\">\n",
       "      <th></th>\n",
       "      <th>State</th>\n",
       "      <th>y2010</th>\n",
       "      <th>y2011</th>\n",
       "      <th>year</th>\n",
       "    </tr>\n",
       "  </thead>\n",
       "  <tbody>\n",
       "    <tr>\n",
       "      <th>2122</th>\n",
       "      <td>AB</td>\n",
       "      <td>19</td>\n",
       "      <td>0</td>\n",
       "      <td>2010</td>\n",
       "    </tr>\n",
       "    <tr>\n",
       "      <th>2182</th>\n",
       "      <td>AB</td>\n",
       "      <td>0</td>\n",
       "      <td>11</td>\n",
       "      <td>2011</td>\n",
       "    </tr>\n",
       "  </tbody>\n",
       "</table>\n",
       "</div>"
      ],
      "text/plain": [
       "     State  y2010  y2011  year\n",
       "2122    AB     19      0  2010\n",
       "2182    AB      0     11  2011"
      ]
     },
     "execution_count": 113,
     "metadata": {},
     "output_type": "execute_result"
    }
   ],
   "source": [
    "c.execute('''\n",
    "            select state, \n",
    "            count(case when strftime('%Y',event_date) = '2010' then shape end) as 'y2010', \n",
    "            count(case when strftime('%Y',event_date) = '2011' then shape end) as 'y2011',\n",
    "            strftime('%Y',event_date) as year from ufos \n",
    "            group by strftime('%Y',event_date), state\n",
    "          \n",
    "            ''')\n",
    "ufo_df_groupstate = pd.DataFrame(c.fetchall())\n",
    "ufo_df_groupstate.columns = [i[0] for i in c.description]\n",
    "ufo_df_groupstate[(ufo_df_groupstate.year>'2009')&(ufo_df_groupstate.State=='AB')&(ufo_df_groupstate.year<'2012')]"
   ]
  },
  {
   "cell_type": "code",
   "execution_count": null,
   "metadata": {},
   "outputs": [],
   "source": []
  }
 ],
 "metadata": {
  "kernelspec": {
   "display_name": "Python 3",
   "language": "python",
   "name": "python3"
  },
  "language_info": {
   "codemirror_mode": {
    "name": "ipython",
    "version": 3
   },
   "file_extension": ".py",
   "mimetype": "text/x-python",
   "name": "python",
   "nbconvert_exporter": "python",
   "pygments_lexer": "ipython3",
   "version": "3.7.3"
  }
 },
 "nbformat": 4,
 "nbformat_minor": 2
}
