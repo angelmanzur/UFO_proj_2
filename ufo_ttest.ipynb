{
 "cells": [
  {
   "cell_type": "markdown",
   "metadata": {},
   "source": [
    "# UFO Tourism"
   ]
  },
  {
   "cell_type": "markdown",
   "metadata": {},
   "source": [
    "### Motivation:\n",
    "\n",
    "Help people plan where to go to see UFO sighting and what to expect. \n"
   ]
  },
  {
   "cell_type": "markdown",
   "metadata": {},
   "source": [
    "#### First Question: \n",
    "How does Nevada (Area 51) and New Mexico (Roswell) differ in sighting duration time? - (bootstrap & ttest) \n",
    "\n",
    "#### Second Question: \n",
    "How different are the durations between shapes? - (boot strap + ttest) (done)\n",
    "\n",
    "#### Third Question: \n",
    "Where should you go to see the most sightings? (Chi square test) (today)\n",
    "\n",
    "#### Fourth Question: \n",
    "Do all the shapes last the same amout of time? (ANOVA) \n",
    "\n",
    "---"
   ]
  },
  {
   "cell_type": "markdown",
   "metadata": {},
   "source": [
    "#### 1. First, import the following libraries"
   ]
  },
  {
   "cell_type": "code",
   "execution_count": 120,
   "metadata": {},
   "outputs": [
    {
     "data": {
      "text/html": [
       "        <script type=\"text/javascript\">\n",
       "        window.PlotlyConfig = {MathJaxConfig: 'local'};\n",
       "        if (window.MathJax) {MathJax.Hub.Config({SVG: {font: \"STIX-Web\"}});}\n",
       "        if (typeof require !== 'undefined') {\n",
       "        require.undef(\"plotly\");\n",
       "        requirejs.config({\n",
       "            paths: {\n",
       "                'plotly': ['https://cdn.plot.ly/plotly-latest.min']\n",
       "            }\n",
       "        });\n",
       "        require(['plotly'], function(Plotly) {\n",
       "            window._Plotly = Plotly;\n",
       "        });\n",
       "        }\n",
       "        </script>\n",
       "        "
      ]
     },
     "metadata": {},
     "output_type": "display_data"
    }
   ],
   "source": [
    "import sqlite3\n",
    "import pandas as pd\n",
    "import numpy as np\n",
    "import seaborn as sns\n",
    "import matplotlib.pyplot as plt\n",
    "from scipy.stats import ttest_ind\n",
    "# !pip install cufflinks\n",
    "import cufflinks as cf\n",
    "cf.go_offline()\n",
    "from plotly.offline import iplot\n",
    "import statsmodels.api as sm\n",
    "from statsmodels.formula.api import ols\n",
    "\n",
    "from statsmodels.stats.multicomp import pairwise_tukeyhsd\n",
    "from statsmodels.stats.multicomp import MultiComparison"
   ]
  },
  {
   "cell_type": "markdown",
   "metadata": {},
   "source": [
    "#### 2. Connect to the database called ufo.db which was made from a csv file which was made from scraping the site:  http://www.nuforc.org/index.html"
   ]
  },
  {
   "cell_type": "code",
   "execution_count": 2,
   "metadata": {},
   "outputs": [],
   "source": [
    "conn = sqlite3.connect('ufos.db')"
   ]
  },
  {
   "cell_type": "code",
   "execution_count": 3,
   "metadata": {},
   "outputs": [],
   "source": [
    "c = conn.cursor()"
   ]
  },
  {
   "cell_type": "markdown",
   "metadata": {},
   "source": [
    "#### 3. Grab all the data from the database ufo and save it as a dataframe table. "
   ]
  },
  {
   "cell_type": "code",
   "execution_count": 4,
   "metadata": {},
   "outputs": [],
   "source": [
    "c.execute('''select * from populations''')\n",
    "population_df = pd.DataFrame(c.fetchall())\n",
    "population_df.columns = [i[0] for i in c.description]"
   ]
  },
  {
   "cell_type": "code",
   "execution_count": 5,
   "metadata": {},
   "outputs": [
    {
     "data": {
      "text/html": [
       "<div>\n",
       "<style scoped>\n",
       "    .dataframe tbody tr th:only-of-type {\n",
       "        vertical-align: middle;\n",
       "    }\n",
       "\n",
       "    .dataframe tbody tr th {\n",
       "        vertical-align: top;\n",
       "    }\n",
       "\n",
       "    .dataframe thead th {\n",
       "        text-align: right;\n",
       "    }\n",
       "</style>\n",
       "<table border=\"1\" class=\"dataframe\">\n",
       "  <thead>\n",
       "    <tr style=\"text-align: right;\">\n",
       "      <th></th>\n",
       "      <th>Geographic Area</th>\n",
       "      <th>2010</th>\n",
       "      <th>2011</th>\n",
       "      <th>2012</th>\n",
       "      <th>2013</th>\n",
       "      <th>2014</th>\n",
       "      <th>2015</th>\n",
       "      <th>2016</th>\n",
       "      <th>2017</th>\n",
       "      <th>2018</th>\n",
       "    </tr>\n",
       "  </thead>\n",
       "  <tbody>\n",
       "    <tr>\n",
       "      <th>0</th>\n",
       "      <td>AL</td>\n",
       "      <td>4,785,448</td>\n",
       "      <td>4,798,834</td>\n",
       "      <td>4,815,564</td>\n",
       "      <td>4,830,460</td>\n",
       "      <td>4,842,481</td>\n",
       "      <td>4,853,160</td>\n",
       "      <td>4,864,745</td>\n",
       "      <td>4,875,120</td>\n",
       "      <td>4,887,871</td>\n",
       "    </tr>\n",
       "    <tr>\n",
       "      <th>1</th>\n",
       "      <td>AK</td>\n",
       "      <td>713,906</td>\n",
       "      <td>722,038</td>\n",
       "      <td>730,399</td>\n",
       "      <td>737,045</td>\n",
       "      <td>736,307</td>\n",
       "      <td>737,547</td>\n",
       "      <td>741,504</td>\n",
       "      <td>739,786</td>\n",
       "      <td>737,438</td>\n",
       "    </tr>\n",
       "    <tr>\n",
       "      <th>2</th>\n",
       "      <td>AZ</td>\n",
       "      <td>6,407,774</td>\n",
       "      <td>6,473,497</td>\n",
       "      <td>6,556,629</td>\n",
       "      <td>6,634,999</td>\n",
       "      <td>6,733,840</td>\n",
       "      <td>6,833,596</td>\n",
       "      <td>6,945,452</td>\n",
       "      <td>7,048,876</td>\n",
       "      <td>7,171,646</td>\n",
       "    </tr>\n",
       "    <tr>\n",
       "      <th>3</th>\n",
       "      <td>AR</td>\n",
       "      <td>2,921,978</td>\n",
       "      <td>2,940,407</td>\n",
       "      <td>2,952,109</td>\n",
       "      <td>2,959,549</td>\n",
       "      <td>2,967,726</td>\n",
       "      <td>2,978,407</td>\n",
       "      <td>2,990,410</td>\n",
       "      <td>3,002,997</td>\n",
       "      <td>3,013,825</td>\n",
       "    </tr>\n",
       "    <tr>\n",
       "      <th>4</th>\n",
       "      <td>CA</td>\n",
       "      <td>37,320,903</td>\n",
       "      <td>37,641,823</td>\n",
       "      <td>37,960,782</td>\n",
       "      <td>38,280,824</td>\n",
       "      <td>38,625,139</td>\n",
       "      <td>38,953,142</td>\n",
       "      <td>39,209,127</td>\n",
       "      <td>39,399,349</td>\n",
       "      <td>39,557,045</td>\n",
       "    </tr>\n",
       "  </tbody>\n",
       "</table>\n",
       "</div>"
      ],
      "text/plain": [
       "  Geographic Area        2010        2011        2012        2013        2014  \\\n",
       "0              AL   4,785,448   4,798,834   4,815,564   4,830,460   4,842,481   \n",
       "1              AK     713,906     722,038     730,399     737,045     736,307   \n",
       "2              AZ   6,407,774   6,473,497   6,556,629   6,634,999   6,733,840   \n",
       "3              AR   2,921,978   2,940,407   2,952,109   2,959,549   2,967,726   \n",
       "4              CA  37,320,903  37,641,823  37,960,782  38,280,824  38,625,139   \n",
       "\n",
       "         2015        2016        2017        2018  \n",
       "0   4,853,160   4,864,745   4,875,120   4,887,871  \n",
       "1     737,547     741,504     739,786     737,438  \n",
       "2   6,833,596   6,945,452   7,048,876   7,171,646  \n",
       "3   2,978,407   2,990,410   3,002,997   3,013,825  \n",
       "4  38,953,142  39,209,127  39,399,349  39,557,045  "
      ]
     },
     "execution_count": 5,
     "metadata": {},
     "output_type": "execute_result"
    }
   ],
   "source": [
    "population_df.head()"
   ]
  },
  {
   "cell_type": "code",
   "execution_count": 6,
   "metadata": {},
   "outputs": [
    {
     "data": {
      "text/html": [
       "<div>\n",
       "<style scoped>\n",
       "    .dataframe tbody tr th:only-of-type {\n",
       "        vertical-align: middle;\n",
       "    }\n",
       "\n",
       "    .dataframe tbody tr th {\n",
       "        vertical-align: top;\n",
       "    }\n",
       "\n",
       "    .dataframe thead th {\n",
       "        text-align: right;\n",
       "    }\n",
       "</style>\n",
       "<table border=\"1\" class=\"dataframe\">\n",
       "  <thead>\n",
       "    <tr style=\"text-align: right;\">\n",
       "      <th></th>\n",
       "      <th>Geographic Area</th>\n",
       "      <th>2010</th>\n",
       "      <th>2011</th>\n",
       "      <th>2012</th>\n",
       "      <th>2013</th>\n",
       "      <th>2014</th>\n",
       "      <th>2015</th>\n",
       "      <th>2016</th>\n",
       "      <th>2017</th>\n",
       "      <th>2018</th>\n",
       "    </tr>\n",
       "  </thead>\n",
       "  <tbody>\n",
       "    <tr>\n",
       "      <th>0</th>\n",
       "      <td>AL</td>\n",
       "      <td>4785448</td>\n",
       "      <td>4798834</td>\n",
       "      <td>4815564</td>\n",
       "      <td>4830460</td>\n",
       "      <td>4842481</td>\n",
       "      <td>4853160</td>\n",
       "      <td>4864745</td>\n",
       "      <td>4875120</td>\n",
       "      <td>4887871</td>\n",
       "    </tr>\n",
       "    <tr>\n",
       "      <th>1</th>\n",
       "      <td>AK</td>\n",
       "      <td>713906</td>\n",
       "      <td>722038</td>\n",
       "      <td>730399</td>\n",
       "      <td>737045</td>\n",
       "      <td>736307</td>\n",
       "      <td>737547</td>\n",
       "      <td>741504</td>\n",
       "      <td>739786</td>\n",
       "      <td>737438</td>\n",
       "    </tr>\n",
       "    <tr>\n",
       "      <th>2</th>\n",
       "      <td>AZ</td>\n",
       "      <td>6407774</td>\n",
       "      <td>6473497</td>\n",
       "      <td>6556629</td>\n",
       "      <td>6634999</td>\n",
       "      <td>6733840</td>\n",
       "      <td>6833596</td>\n",
       "      <td>6945452</td>\n",
       "      <td>7048876</td>\n",
       "      <td>7171646</td>\n",
       "    </tr>\n",
       "    <tr>\n",
       "      <th>3</th>\n",
       "      <td>AR</td>\n",
       "      <td>2921978</td>\n",
       "      <td>2940407</td>\n",
       "      <td>2952109</td>\n",
       "      <td>2959549</td>\n",
       "      <td>2967726</td>\n",
       "      <td>2978407</td>\n",
       "      <td>2990410</td>\n",
       "      <td>3002997</td>\n",
       "      <td>3013825</td>\n",
       "    </tr>\n",
       "    <tr>\n",
       "      <th>4</th>\n",
       "      <td>CA</td>\n",
       "      <td>37320903</td>\n",
       "      <td>37641823</td>\n",
       "      <td>37960782</td>\n",
       "      <td>38280824</td>\n",
       "      <td>38625139</td>\n",
       "      <td>38953142</td>\n",
       "      <td>39209127</td>\n",
       "      <td>39399349</td>\n",
       "      <td>39557045</td>\n",
       "    </tr>\n",
       "  </tbody>\n",
       "</table>\n",
       "</div>"
      ],
      "text/plain": [
       "  Geographic Area      2010      2011      2012      2013      2014      2015  \\\n",
       "0              AL   4785448   4798834   4815564   4830460   4842481   4853160   \n",
       "1              AK    713906    722038    730399    737045    736307    737547   \n",
       "2              AZ   6407774   6473497   6556629   6634999   6733840   6833596   \n",
       "3              AR   2921978   2940407   2952109   2959549   2967726   2978407   \n",
       "4              CA  37320903  37641823  37960782  38280824  38625139  38953142   \n",
       "\n",
       "       2016      2017      2018  \n",
       "0   4864745   4875120   4887871  \n",
       "1    741504    739786    737438  \n",
       "2   6945452   7048876   7171646  \n",
       "3   2990410   3002997   3013825  \n",
       "4  39209127  39399349  39557045  "
      ]
     },
     "execution_count": 6,
     "metadata": {},
     "output_type": "execute_result"
    }
   ],
   "source": [
    "column_names = population_df.columns\n",
    "\n",
    "for column_name in column_names:\n",
    "    population_df[column_name]=population_df[column_name].apply(lambda x: x.replace(',',''))\n",
    "population_df.head()\n"
   ]
  },
  {
   "cell_type": "code",
   "execution_count": 7,
   "metadata": {},
   "outputs": [
    {
     "name": "stdout",
     "output_type": "stream",
     "text": [
      "<class 'pandas.core.frame.DataFrame'>\n",
      "RangeIndex: 51 entries, 0 to 50\n",
      "Data columns (total 10 columns):\n",
      "Geographic Area    51 non-null object\n",
      "2010               51 non-null int64\n",
      "2011               51 non-null int64\n",
      "2012               51 non-null int64\n",
      "2013               51 non-null int64\n",
      "2014               51 non-null int64\n",
      "2015               51 non-null int64\n",
      "2016               51 non-null int64\n",
      "2017               51 non-null int64\n",
      "2018               51 non-null int64\n",
      "dtypes: int64(9), object(1)\n",
      "memory usage: 4.1+ KB\n"
     ]
    }
   ],
   "source": [
    "for column_name in column_names[1:]:\n",
    "    population_df[column_name] = population_df[column_name].astype(int)\n",
    "population_df.info()"
   ]
  },
  {
   "cell_type": "code",
   "execution_count": 8,
   "metadata": {
    "scrolled": false
   },
   "outputs": [
    {
     "data": {
      "text/html": [
       "<div>\n",
       "<style scoped>\n",
       "    .dataframe tbody tr th:only-of-type {\n",
       "        vertical-align: middle;\n",
       "    }\n",
       "\n",
       "    .dataframe tbody tr th {\n",
       "        vertical-align: top;\n",
       "    }\n",
       "\n",
       "    .dataframe thead th {\n",
       "        text-align: right;\n",
       "    }\n",
       "</style>\n",
       "<table border=\"1\" class=\"dataframe\">\n",
       "  <thead>\n",
       "    <tr style=\"text-align: right;\">\n",
       "      <th></th>\n",
       "      <th>Date_Time</th>\n",
       "      <th>City</th>\n",
       "      <th>State</th>\n",
       "      <th>Shape</th>\n",
       "      <th>Duration</th>\n",
       "      <th>Summary</th>\n",
       "      <th>Date_Posted</th>\n",
       "      <th>Duration_sec</th>\n",
       "      <th>event_date</th>\n",
       "    </tr>\n",
       "  </thead>\n",
       "  <tbody>\n",
       "    <tr>\n",
       "      <th>0</th>\n",
       "      <td>5/9/19 21:15</td>\n",
       "      <td>Cincinnati</td>\n",
       "      <td>OH</td>\n",
       "      <td>Triangle</td>\n",
       "      <td>15 seconds</td>\n",
       "      <td>Large V/triangle-shaped craft that moved silen...</td>\n",
       "      <td>5/9/19</td>\n",
       "      <td>15.0</td>\n",
       "      <td>2019-05-09 21:15:00</td>\n",
       "    </tr>\n",
       "    <tr>\n",
       "      <th>1</th>\n",
       "      <td>5/8/19 23:00</td>\n",
       "      <td>Statesboro</td>\n",
       "      <td>GA</td>\n",
       "      <td>Triangle</td>\n",
       "      <td>20 seconds</td>\n",
       "      <td>Two UFO's near Statesboro, Ga. 11:00 PM 5-9-2019.</td>\n",
       "      <td>5/9/19</td>\n",
       "      <td>20.0</td>\n",
       "      <td>2019-05-08 23:00:00</td>\n",
       "    </tr>\n",
       "    <tr>\n",
       "      <th>2</th>\n",
       "      <td>5/8/19 23:00</td>\n",
       "      <td>Norfolk</td>\n",
       "      <td>VA</td>\n",
       "      <td>Light</td>\n",
       "      <td>&gt;10 minutes</td>\n",
       "      <td>Extremely loud bang, light spotted in sky.</td>\n",
       "      <td>5/9/19</td>\n",
       "      <td>600.0</td>\n",
       "      <td>2019-05-08 23:00:00</td>\n",
       "    </tr>\n",
       "    <tr>\n",
       "      <th>3</th>\n",
       "      <td>5/8/19 01:30</td>\n",
       "      <td>Saint George</td>\n",
       "      <td>UT</td>\n",
       "      <td>Other</td>\n",
       "      <td>1:30</td>\n",
       "      <td>Started noticing a huge flash of light @ aroun...</td>\n",
       "      <td>5/9/19</td>\n",
       "      <td>90.0</td>\n",
       "      <td>2019-05-08 01:30:00</td>\n",
       "    </tr>\n",
       "    <tr>\n",
       "      <th>4</th>\n",
       "      <td>5/8/19 01:00</td>\n",
       "      <td>Highlands</td>\n",
       "      <td>NC</td>\n",
       "      <td>Light</td>\n",
       "      <td>1 minute</td>\n",
       "      <td>I have about 10 recordings from last night on ...</td>\n",
       "      <td>5/9/19</td>\n",
       "      <td>60.0</td>\n",
       "      <td>2019-05-08 01:00:00</td>\n",
       "    </tr>\n",
       "  </tbody>\n",
       "</table>\n",
       "</div>"
      ],
      "text/plain": [
       "      Date_Time          City State     Shape     Duration  \\\n",
       "0  5/9/19 21:15    Cincinnati    OH  Triangle   15 seconds   \n",
       "1  5/8/19 23:00    Statesboro    GA  Triangle   20 seconds   \n",
       "2  5/8/19 23:00       Norfolk    VA     Light  >10 minutes   \n",
       "3  5/8/19 01:30  Saint George    UT     Other         1:30   \n",
       "4  5/8/19 01:00     Highlands    NC     Light     1 minute   \n",
       "\n",
       "                                             Summary Date_Posted Duration_sec  \\\n",
       "0  Large V/triangle-shaped craft that moved silen...      5/9/19         15.0   \n",
       "1  Two UFO's near Statesboro, Ga. 11:00 PM 5-9-2019.      5/9/19         20.0   \n",
       "2         Extremely loud bang, light spotted in sky.      5/9/19        600.0   \n",
       "3  Started noticing a huge flash of light @ aroun...      5/9/19         90.0   \n",
       "4  I have about 10 recordings from last night on ...      5/9/19         60.0   \n",
       "\n",
       "            event_date  \n",
       "0  2019-05-09 21:15:00  \n",
       "1  2019-05-08 23:00:00  \n",
       "2  2019-05-08 23:00:00  \n",
       "3  2019-05-08 01:30:00  \n",
       "4  2019-05-08 01:00:00  "
      ]
     },
     "execution_count": 8,
     "metadata": {},
     "output_type": "execute_result"
    }
   ],
   "source": [
    "c.execute('''select * from ufos''')\n",
    "ufo_df = pd.DataFrame(c.fetchall())\n",
    "ufo_df.columns = [i[0] for i in c.description]\n",
    "ufo_df.head()"
   ]
  },
  {
   "cell_type": "code",
   "execution_count": 9,
   "metadata": {},
   "outputs": [
    {
     "data": {
      "text/html": [
       "<div>\n",
       "<style scoped>\n",
       "    .dataframe tbody tr th:only-of-type {\n",
       "        vertical-align: middle;\n",
       "    }\n",
       "\n",
       "    .dataframe tbody tr th {\n",
       "        vertical-align: top;\n",
       "    }\n",
       "\n",
       "    .dataframe thead th {\n",
       "        text-align: right;\n",
       "    }\n",
       "</style>\n",
       "<table border=\"1\" class=\"dataframe\">\n",
       "  <thead>\n",
       "    <tr style=\"text-align: right;\">\n",
       "      <th></th>\n",
       "      <th>Date_Time</th>\n",
       "      <th>City</th>\n",
       "      <th>State</th>\n",
       "      <th>Shape</th>\n",
       "      <th>Duration</th>\n",
       "      <th>Summary</th>\n",
       "      <th>Date_Posted</th>\n",
       "      <th>Duration_sec</th>\n",
       "      <th>event_date</th>\n",
       "    </tr>\n",
       "  </thead>\n",
       "  <tbody>\n",
       "    <tr>\n",
       "      <th>0</th>\n",
       "      <td>5/9/19 21:15</td>\n",
       "      <td>Cincinnati</td>\n",
       "      <td>OH</td>\n",
       "      <td>Triangle</td>\n",
       "      <td>15 seconds</td>\n",
       "      <td>Large V/triangle-shaped craft that moved silen...</td>\n",
       "      <td>5/9/19</td>\n",
       "      <td>15.0</td>\n",
       "      <td>2019-05-09 21:15:00</td>\n",
       "    </tr>\n",
       "    <tr>\n",
       "      <th>1</th>\n",
       "      <td>5/8/19 23:00</td>\n",
       "      <td>Statesboro</td>\n",
       "      <td>GA</td>\n",
       "      <td>Triangle</td>\n",
       "      <td>20 seconds</td>\n",
       "      <td>Two UFO's near Statesboro, Ga. 11:00 PM 5-9-2019.</td>\n",
       "      <td>5/9/19</td>\n",
       "      <td>20.0</td>\n",
       "      <td>2019-05-08 23:00:00</td>\n",
       "    </tr>\n",
       "    <tr>\n",
       "      <th>2</th>\n",
       "      <td>5/8/19 23:00</td>\n",
       "      <td>Norfolk</td>\n",
       "      <td>VA</td>\n",
       "      <td>Light</td>\n",
       "      <td>&gt;10 minutes</td>\n",
       "      <td>Extremely loud bang, light spotted in sky.</td>\n",
       "      <td>5/9/19</td>\n",
       "      <td>600.0</td>\n",
       "      <td>2019-05-08 23:00:00</td>\n",
       "    </tr>\n",
       "    <tr>\n",
       "      <th>3</th>\n",
       "      <td>5/8/19 01:30</td>\n",
       "      <td>Saint George</td>\n",
       "      <td>UT</td>\n",
       "      <td>Other</td>\n",
       "      <td>1:30</td>\n",
       "      <td>Started noticing a huge flash of light @ aroun...</td>\n",
       "      <td>5/9/19</td>\n",
       "      <td>90.0</td>\n",
       "      <td>2019-05-08 01:30:00</td>\n",
       "    </tr>\n",
       "    <tr>\n",
       "      <th>4</th>\n",
       "      <td>5/8/19 01:00</td>\n",
       "      <td>Highlands</td>\n",
       "      <td>NC</td>\n",
       "      <td>Light</td>\n",
       "      <td>1 minute</td>\n",
       "      <td>I have about 10 recordings from last night on ...</td>\n",
       "      <td>5/9/19</td>\n",
       "      <td>60.0</td>\n",
       "      <td>2019-05-08 01:00:00</td>\n",
       "    </tr>\n",
       "  </tbody>\n",
       "</table>\n",
       "</div>"
      ],
      "text/plain": [
       "      Date_Time          City State     Shape     Duration  \\\n",
       "0  5/9/19 21:15    Cincinnati    OH  Triangle   15 seconds   \n",
       "1  5/8/19 23:00    Statesboro    GA  Triangle   20 seconds   \n",
       "2  5/8/19 23:00       Norfolk    VA     Light  >10 minutes   \n",
       "3  5/8/19 01:30  Saint George    UT     Other         1:30   \n",
       "4  5/8/19 01:00     Highlands    NC     Light     1 minute   \n",
       "\n",
       "                                             Summary Date_Posted Duration_sec  \\\n",
       "0  Large V/triangle-shaped craft that moved silen...      5/9/19         15.0   \n",
       "1  Two UFO's near Statesboro, Ga. 11:00 PM 5-9-2019.      5/9/19         20.0   \n",
       "2         Extremely loud bang, light spotted in sky.      5/9/19        600.0   \n",
       "3  Started noticing a huge flash of light @ aroun...      5/9/19         90.0   \n",
       "4  I have about 10 recordings from last night on ...      5/9/19         60.0   \n",
       "\n",
       "            event_date  \n",
       "0  2019-05-09 21:15:00  \n",
       "1  2019-05-08 23:00:00  \n",
       "2  2019-05-08 23:00:00  \n",
       "3  2019-05-08 01:30:00  \n",
       "4  2019-05-08 01:00:00  "
      ]
     },
     "execution_count": 9,
     "metadata": {},
     "output_type": "execute_result"
    }
   ],
   "source": [
    "ufo_df.head()"
   ]
  },
  {
   "cell_type": "markdown",
   "metadata": {},
   "source": [
    "#### 4. Display the data from the database as a dataframe."
   ]
  },
  {
   "cell_type": "code",
   "execution_count": 10,
   "metadata": {},
   "outputs": [],
   "source": [
    "ufo_df.Duration_sec=ufo_df.Duration_sec.astype(float)"
   ]
  },
  {
   "cell_type": "markdown",
   "metadata": {},
   "source": [
    "#### 5. Data Exploration and Cleaning."
   ]
  },
  {
   "cell_type": "code",
   "execution_count": 23,
   "metadata": {},
   "outputs": [],
   "source": [
    "c.execute('''select * from ufos where state = 'NM' ''')\n",
    "ufo_df_nm = pd.DataFrame(c.fetchall())\n",
    "ufo_df_nm.columns = [i[0] for i in c.description]"
   ]
  },
  {
   "cell_type": "code",
   "execution_count": 26,
   "metadata": {},
   "outputs": [],
   "source": [
    "c.execute('''select * from ufos where state= 'NV' ''')\n",
    "ufo_df_nv = pd.DataFrame(c.fetchall())\n",
    "ufo_df_nv.columns = [i[0] for i in c.description]"
   ]
  },
  {
   "cell_type": "code",
   "execution_count": 27,
   "metadata": {},
   "outputs": [
    {
     "data": {
      "text/plain": [
       "<matplotlib.legend.Legend at 0x1a24c5ca20>"
      ]
     },
     "execution_count": 27,
     "metadata": {},
     "output_type": "execute_result"
    },
    {
     "data": {
      "image/png": "[encoded data removed]",
      "text/plain": [
       "<Figure size 432x288 with 1 Axes>"
      ]
     },
     "metadata": {
      "needs_background": "light"
     },
     "output_type": "display_data"
    }
   ],
   "source": [
    "ufo_df_nv.Duration_sec=ufo_df_nv.Duration_sec.astype(float)\n",
    "ufo_df_nm.Duration_sec=ufo_df_nm.Duration_sec.astype(float)\n",
    "fig = plt.figure(figsize=(6,4))\n",
    "sns.distplot(ufo_df_nv[ufo_df_nv.Duration_sec<2000]['Duration_sec'], bins=50, label='NV')\n",
    "sns.distplot(ufo_df_nm[ufo_df_nm.Duration_sec<2000]['Duration_sec'], bins=50, label='NM')\n",
    "plt.semilogy(True)\n",
    "plt.ylabel('Frequency of Sights')\n",
    "plt.xlabel('Duration in Seconds')\n",
    "plt.legend()"
   ]
  },
  {
   "cell_type": "code",
   "execution_count": 30,
   "metadata": {
    "scrolled": true
   },
   "outputs": [],
   "source": [
    "# ufo_df.Shape.value_counts()"
   ]
  },
  {
   "cell_type": "markdown",
   "metadata": {},
   "source": [
    "#### Doing a bootstrap sampling on the duration for Nevada and New Mexico. "
   ]
  },
  {
   "cell_type": "code",
   "execution_count": 31,
   "metadata": {},
   "outputs": [],
   "source": [
    "nv_means = []\n",
    "for i in range(1000):\n",
    "    x_nv = np.random.choice(ufo_df_nv['Duration_sec'],size=500)\n",
    "    nv_means.append(x_nv.mean())"
   ]
  },
  {
   "cell_type": "code",
   "execution_count": 32,
   "metadata": {},
   "outputs": [],
   "source": [
    "nm_means = []\n",
    "for i in range(1000):\n",
    "    x_nm = np.random.choice(ufo_df_nm['Duration_sec'],size=500)\n",
    "    nm_means.append(x_nm.mean())"
   ]
  },
  {
   "cell_type": "code",
   "execution_count": 33,
   "metadata": {},
   "outputs": [
    {
     "data": {
      "text/plain": [
       "<matplotlib.legend.Legend at 0x1a242fe6d8>"
      ]
     },
     "execution_count": 33,
     "metadata": {},
     "output_type": "execute_result"
    },
    {
     "data": {
      "image/png": "[encoded data removed]",
      "text/plain": [
       "<Figure size 432x288 with 1 Axes>"
      ]
     },
     "metadata": {
      "needs_background": "light"
     },
     "output_type": "display_data"
    }
   ],
   "source": [
    "fig = plt.figure(figsize=(6,4))\n",
    "sns.distplot(nv_means, label='NV')\n",
    "sns.distplot(nm_means, label='NM')\n",
    "plt.ylabel('Frequency')\n",
    "plt.xlabel('Mean Duration in Seconds')\n",
    "plt.legend()"
   ]
  },
  {
   "cell_type": "code",
   "execution_count": 34,
   "metadata": {},
   "outputs": [
    {
     "data": {
      "text/plain": [
       "Ttest_indResult(statistic=-16.240722291796846, pvalue=8.552190900044809e-56)"
      ]
     },
     "execution_count": 34,
     "metadata": {},
     "output_type": "execute_result"
    }
   ],
   "source": [
    "ttest_ind(nv_means,\n",
    "          nm_means ,\n",
    "          equal_var=False)"
   ]
  },
  {
   "cell_type": "markdown",
   "metadata": {},
   "source": [
    "#### If you want to see a sighting for longer, go to New Mexico. "
   ]
  },
  {
   "cell_type": "markdown",
   "metadata": {},
   "source": [
    "### What shape to expect to see. "
   ]
  },
  {
   "cell_type": "code",
   "execution_count": 36,
   "metadata": {},
   "outputs": [
    {
     "data": {
      "text/plain": [
       "Light       18609\n",
       "Circle       9353\n",
       "Triangle     8687\n",
       "Name: Shape, dtype: int64"
      ]
     },
     "execution_count": 36,
     "metadata": {},
     "output_type": "execute_result"
    }
   ],
   "source": [
    "ufo_df.Shape.value_counts().head(3)"
   ]
  },
  {
   "cell_type": "code",
   "execution_count": 39,
   "metadata": {},
   "outputs": [],
   "source": [
    "circle_means = []\n",
    "for i in range(1000):\n",
    "    x_circle = np.random.choice(ufo_df[ufo_df.Shape=='Circle']['Duration_sec'],size=500)\n",
    "    circle_means.append(x_circle.mean())"
   ]
  },
  {
   "cell_type": "code",
   "execution_count": 40,
   "metadata": {},
   "outputs": [],
   "source": [
    "triangle_means = []\n",
    "for i in range(1000):\n",
    "    x_triangle = np.random.choice(ufo_df[ufo_df.Shape=='Triangle']['Duration_sec'],size=500)\n",
    "    triangle_means.append(x_triangle.mean())\n",
    "    "
   ]
  },
  {
   "cell_type": "code",
   "execution_count": 41,
   "metadata": {},
   "outputs": [],
   "source": [
    "light_means = []\n",
    "for i in range(1000):\n",
    "    x_light = np.random.choice(ufo_df[ufo_df.Shape=='Light']['Duration_sec'],size=500)\n",
    "    light_means.append(x_light.mean())\n",
    "    "
   ]
  },
  {
   "cell_type": "code",
   "execution_count": 51,
   "metadata": {},
   "outputs": [
    {
     "data": {
      "text/plain": [
       "<matplotlib.legend.Legend at 0x1a259ed240>"
      ]
     },
     "execution_count": 51,
     "metadata": {},
     "output_type": "execute_result"
    },
    {
     "data": {
      "image/png": "[encoded data removed]",
      "text/plain": [
       "<Figure size 432x288 with 1 Axes>"
      ]
     },
     "metadata": {
      "needs_background": "light"
     },
     "output_type": "display_data"
    }
   ],
   "source": [
    "fig = plt.figure(figsize=(6,4))\n",
    "clabel = 'circle {0:1.2f}'.format(np.array(circle_means).mean())\n",
    "tlabel = 'triangle {0:1.2f}'.format(np.array(triangle_means).mean())\n",
    "llabel = 'light {0:1.2f}'.format(np.array(light_means).mean())\n",
    "sns.distplot(light_means, label=llabel)\n",
    "sns.distplot(circle_means, label=clabel)\n",
    "sns.distplot(triangle_means, label=tlabel)\n",
    "plt.ylabel('Frequency')\n",
    "plt.xlabel('Mean Duration in Seconds')\n",
    "plt.legend()\n",
    "# plt.savefig('shape.png')"
   ]
  },
  {
   "cell_type": "code",
   "execution_count": 52,
   "metadata": {},
   "outputs": [
    {
     "data": {
      "text/plain": [
       "Ttest_indResult(statistic=17.463466197074766, pvalue=1.7443471068657133e-62)"
      ]
     },
     "execution_count": 52,
     "metadata": {},
     "output_type": "execute_result"
    }
   ],
   "source": [
    "ttest_ind(circle_means,\n",
    "          triangle_means,\n",
    "          equal_var=False)"
   ]
  },
  {
   "cell_type": "code",
   "execution_count": 53,
   "metadata": {
    "scrolled": true
   },
   "outputs": [
    {
     "data": {
      "text/plain": [
       "Ttest_indResult(statistic=-11.622695071345559, pvalue=2.9275127445664277e-30)"
      ]
     },
     "execution_count": 53,
     "metadata": {},
     "output_type": "execute_result"
    }
   ],
   "source": [
    "ttest_ind(circle_means,\n",
    "          light_means,\n",
    "          equal_var=False)"
   ]
  },
  {
   "cell_type": "code",
   "execution_count": 54,
   "metadata": {},
   "outputs": [
    {
     "data": {
      "text/plain": [
       "Ttest_indResult(statistic=-25.24308285446043, pvalue=1.0082336489739122e-118)"
      ]
     },
     "execution_count": 54,
     "metadata": {},
     "output_type": "execute_result"
    }
   ],
   "source": [
    "ttest_ind(triangle_means,\n",
    "          light_means,\n",
    "          equal_var=False)"
   ]
  },
  {
   "cell_type": "markdown",
   "metadata": {},
   "source": [
    "#### The null hypothesis was that people see them the same amount of time. If you see a light in the sky it will last on average \"2 minutes\" longer than a circle. "
   ]
  },
  {
   "cell_type": "markdown",
   "metadata": {},
   "source": [
    "## Joining with population_df etc. "
   ]
  },
  {
   "cell_type": "markdown",
   "metadata": {},
   "source": [
    "#### Grouped number of sights by year and by states."
   ]
  },
  {
   "cell_type": "code",
   "execution_count": 56,
   "metadata": {},
   "outputs": [],
   "source": [
    "year_list = range(2010, 2019)\n",
    "cmd = \"\"\"SELECT state \"\"\"\n",
    "for year in year_list:\n",
    "    cmd += \"\"\", \\n sum(CAST (\"y{0}\" AS int)) as N{0}\"\"\".format(year)\n",
    "cmd += \"\"\"\\n FROM \\n \\t(SELECT state \"\"\"\n",
    "for year in year_list:\n",
    "    cmd += \"\"\", \\n \\t COUNT( CASE WHEN strftime('%Y', event_date) = '{0}' THEN shape END) AS 'y{0}'\"\"\".format(year)\n",
    "cmd += \"\"\", \\n \\t strftime('%Y', event_date) as year FROM ufos \"\"\"\n",
    "cmd += \"\"\"\\n \\t GROUP BY strftime('%Y',event_date), state)\"\"\"\n",
    "cmd += \"\"\"\\n GROUP BY state\"\"\"\n",
    "# print(cmd)"
   ]
  },
  {
   "cell_type": "code",
   "execution_count": 57,
   "metadata": {},
   "outputs": [
    {
     "data": {
      "text/html": [
       "<div>\n",
       "<style scoped>\n",
       "    .dataframe tbody tr th:only-of-type {\n",
       "        vertical-align: middle;\n",
       "    }\n",
       "\n",
       "    .dataframe tbody tr th {\n",
       "        vertical-align: top;\n",
       "    }\n",
       "\n",
       "    .dataframe thead th {\n",
       "        text-align: right;\n",
       "    }\n",
       "</style>\n",
       "<table border=\"1\" class=\"dataframe\">\n",
       "  <thead>\n",
       "    <tr style=\"text-align: right;\">\n",
       "      <th></th>\n",
       "      <th>state</th>\n",
       "      <th>N2010</th>\n",
       "      <th>N2011</th>\n",
       "      <th>N2012</th>\n",
       "      <th>N2013</th>\n",
       "      <th>N2014</th>\n",
       "      <th>N2015</th>\n",
       "      <th>N2016</th>\n",
       "      <th>N2017</th>\n",
       "      <th>N2018</th>\n",
       "    </tr>\n",
       "  </thead>\n",
       "  <tbody>\n",
       "    <tr>\n",
       "      <th>0</th>\n",
       "      <td>AB</td>\n",
       "      <td>19</td>\n",
       "      <td>11</td>\n",
       "      <td>17</td>\n",
       "      <td>20</td>\n",
       "      <td>38</td>\n",
       "      <td>33</td>\n",
       "      <td>25</td>\n",
       "      <td>38</td>\n",
       "      <td>13</td>\n",
       "    </tr>\n",
       "    <tr>\n",
       "      <th>1</th>\n",
       "      <td>AK</td>\n",
       "      <td>11</td>\n",
       "      <td>14</td>\n",
       "      <td>40</td>\n",
       "      <td>47</td>\n",
       "      <td>39</td>\n",
       "      <td>32</td>\n",
       "      <td>36</td>\n",
       "      <td>20</td>\n",
       "      <td>20</td>\n",
       "    </tr>\n",
       "    <tr>\n",
       "      <th>2</th>\n",
       "      <td>AL</td>\n",
       "      <td>20</td>\n",
       "      <td>29</td>\n",
       "      <td>50</td>\n",
       "      <td>70</td>\n",
       "      <td>111</td>\n",
       "      <td>58</td>\n",
       "      <td>44</td>\n",
       "      <td>55</td>\n",
       "      <td>24</td>\n",
       "    </tr>\n",
       "    <tr>\n",
       "      <th>3</th>\n",
       "      <td>AR</td>\n",
       "      <td>37</td>\n",
       "      <td>35</td>\n",
       "      <td>46</td>\n",
       "      <td>50</td>\n",
       "      <td>25</td>\n",
       "      <td>37</td>\n",
       "      <td>31</td>\n",
       "      <td>36</td>\n",
       "      <td>32</td>\n",
       "    </tr>\n",
       "    <tr>\n",
       "      <th>4</th>\n",
       "      <td>AZ</td>\n",
       "      <td>94</td>\n",
       "      <td>127</td>\n",
       "      <td>168</td>\n",
       "      <td>211</td>\n",
       "      <td>265</td>\n",
       "      <td>247</td>\n",
       "      <td>213</td>\n",
       "      <td>190</td>\n",
       "      <td>74</td>\n",
       "    </tr>\n",
       "  </tbody>\n",
       "</table>\n",
       "</div>"
      ],
      "text/plain": [
       "  state  N2010  N2011  N2012  N2013  N2014  N2015  N2016  N2017  N2018\n",
       "0    AB     19     11     17     20     38     33     25     38     13\n",
       "1    AK     11     14     40     47     39     32     36     20     20\n",
       "2    AL     20     29     50     70    111     58     44     55     24\n",
       "3    AR     37     35     46     50     25     37     31     36     32\n",
       "4    AZ     94    127    168    211    265    247    213    190     74"
      ]
     },
     "execution_count": 57,
     "metadata": {},
     "output_type": "execute_result"
    }
   ],
   "source": [
    "c.execute(cmd)\n",
    "ufo_df_groupstate = pd.DataFrame(c.fetchall())\n",
    "ufo_df_groupstate.columns = [i[0] for i in c.description]\n",
    "ufo_df_groupstate.head() #[(ufo_df_groupstate.state=='AB')]"
   ]
  },
  {
   "cell_type": "markdown",
   "metadata": {},
   "source": [
    "#### Merged the population and ufos dataframes on state. "
   ]
  },
  {
   "cell_type": "code",
   "execution_count": 58,
   "metadata": {},
   "outputs": [],
   "source": [
    "ufo_pop_df  = pd.merge(population_df, ufo_df_groupstate,\n",
    "                  left_on='Geographic Area',\n",
    "                  right_on='state', \n",
    "                  how='left')"
   ]
  },
  {
   "cell_type": "code",
   "execution_count": 60,
   "metadata": {
    "scrolled": true
   },
   "outputs": [
    {
     "data": {
      "text/html": [
       "<div>\n",
       "<style scoped>\n",
       "    .dataframe tbody tr th:only-of-type {\n",
       "        vertical-align: middle;\n",
       "    }\n",
       "\n",
       "    .dataframe tbody tr th {\n",
       "        vertical-align: top;\n",
       "    }\n",
       "\n",
       "    .dataframe thead th {\n",
       "        text-align: right;\n",
       "    }\n",
       "</style>\n",
       "<table border=\"1\" class=\"dataframe\">\n",
       "  <thead>\n",
       "    <tr style=\"text-align: right;\">\n",
       "      <th></th>\n",
       "      <th>2010</th>\n",
       "      <th>2011</th>\n",
       "      <th>2012</th>\n",
       "      <th>2013</th>\n",
       "      <th>2014</th>\n",
       "      <th>2015</th>\n",
       "      <th>2016</th>\n",
       "      <th>2017</th>\n",
       "      <th>2018</th>\n",
       "      <th>state</th>\n",
       "      <th>N2010</th>\n",
       "      <th>N2011</th>\n",
       "      <th>N2012</th>\n",
       "      <th>N2013</th>\n",
       "      <th>N2014</th>\n",
       "      <th>N2015</th>\n",
       "      <th>N2016</th>\n",
       "      <th>N2017</th>\n",
       "      <th>N2018</th>\n",
       "    </tr>\n",
       "  </thead>\n",
       "  <tbody>\n",
       "    <tr>\n",
       "      <th>0</th>\n",
       "      <td>4785448</td>\n",
       "      <td>4798834</td>\n",
       "      <td>4815564</td>\n",
       "      <td>4830460</td>\n",
       "      <td>4842481</td>\n",
       "      <td>4853160</td>\n",
       "      <td>4864745</td>\n",
       "      <td>4875120</td>\n",
       "      <td>4887871</td>\n",
       "      <td>AL</td>\n",
       "      <td>20</td>\n",
       "      <td>29</td>\n",
       "      <td>50</td>\n",
       "      <td>70</td>\n",
       "      <td>111</td>\n",
       "      <td>58</td>\n",
       "      <td>44</td>\n",
       "      <td>55</td>\n",
       "      <td>24</td>\n",
       "    </tr>\n",
       "    <tr>\n",
       "      <th>1</th>\n",
       "      <td>713906</td>\n",
       "      <td>722038</td>\n",
       "      <td>730399</td>\n",
       "      <td>737045</td>\n",
       "      <td>736307</td>\n",
       "      <td>737547</td>\n",
       "      <td>741504</td>\n",
       "      <td>739786</td>\n",
       "      <td>737438</td>\n",
       "      <td>AK</td>\n",
       "      <td>11</td>\n",
       "      <td>14</td>\n",
       "      <td>40</td>\n",
       "      <td>47</td>\n",
       "      <td>39</td>\n",
       "      <td>32</td>\n",
       "      <td>36</td>\n",
       "      <td>20</td>\n",
       "      <td>20</td>\n",
       "    </tr>\n",
       "    <tr>\n",
       "      <th>2</th>\n",
       "      <td>6407774</td>\n",
       "      <td>6473497</td>\n",
       "      <td>6556629</td>\n",
       "      <td>6634999</td>\n",
       "      <td>6733840</td>\n",
       "      <td>6833596</td>\n",
       "      <td>6945452</td>\n",
       "      <td>7048876</td>\n",
       "      <td>7171646</td>\n",
       "      <td>AZ</td>\n",
       "      <td>94</td>\n",
       "      <td>127</td>\n",
       "      <td>168</td>\n",
       "      <td>211</td>\n",
       "      <td>265</td>\n",
       "      <td>247</td>\n",
       "      <td>213</td>\n",
       "      <td>190</td>\n",
       "      <td>74</td>\n",
       "    </tr>\n",
       "    <tr>\n",
       "      <th>3</th>\n",
       "      <td>2921978</td>\n",
       "      <td>2940407</td>\n",
       "      <td>2952109</td>\n",
       "      <td>2959549</td>\n",
       "      <td>2967726</td>\n",
       "      <td>2978407</td>\n",
       "      <td>2990410</td>\n",
       "      <td>3002997</td>\n",
       "      <td>3013825</td>\n",
       "      <td>AR</td>\n",
       "      <td>37</td>\n",
       "      <td>35</td>\n",
       "      <td>46</td>\n",
       "      <td>50</td>\n",
       "      <td>25</td>\n",
       "      <td>37</td>\n",
       "      <td>31</td>\n",
       "      <td>36</td>\n",
       "      <td>32</td>\n",
       "    </tr>\n",
       "    <tr>\n",
       "      <th>4</th>\n",
       "      <td>37320903</td>\n",
       "      <td>37641823</td>\n",
       "      <td>37960782</td>\n",
       "      <td>38280824</td>\n",
       "      <td>38625139</td>\n",
       "      <td>38953142</td>\n",
       "      <td>39209127</td>\n",
       "      <td>39399349</td>\n",
       "      <td>39557045</td>\n",
       "      <td>CA</td>\n",
       "      <td>481</td>\n",
       "      <td>498</td>\n",
       "      <td>640</td>\n",
       "      <td>653</td>\n",
       "      <td>780</td>\n",
       "      <td>725</td>\n",
       "      <td>516</td>\n",
       "      <td>516</td>\n",
       "      <td>270</td>\n",
       "    </tr>\n",
       "  </tbody>\n",
       "</table>\n",
       "</div>"
      ],
      "text/plain": [
       "       2010      2011      2012      2013      2014      2015      2016  \\\n",
       "0   4785448   4798834   4815564   4830460   4842481   4853160   4864745   \n",
       "1    713906    722038    730399    737045    736307    737547    741504   \n",
       "2   6407774   6473497   6556629   6634999   6733840   6833596   6945452   \n",
       "3   2921978   2940407   2952109   2959549   2967726   2978407   2990410   \n",
       "4  37320903  37641823  37960782  38280824  38625139  38953142  39209127   \n",
       "\n",
       "       2017      2018 state  N2010  N2011  N2012  N2013  N2014  N2015  N2016  \\\n",
       "0   4875120   4887871    AL     20     29     50     70    111     58     44   \n",
       "1    739786    737438    AK     11     14     40     47     39     32     36   \n",
       "2   7048876   7171646    AZ     94    127    168    211    265    247    213   \n",
       "3   3002997   3013825    AR     37     35     46     50     25     37     31   \n",
       "4  39399349  39557045    CA    481    498    640    653    780    725    516   \n",
       "\n",
       "   N2017  N2018  \n",
       "0     55     24  \n",
       "1     20     20  \n",
       "2    190     74  \n",
       "3     36     32  \n",
       "4    516    270  "
      ]
     },
     "execution_count": 60,
     "metadata": {},
     "output_type": "execute_result"
    }
   ],
   "source": [
    "ufo_pop_df.drop(['Geographic Area'], axis=1, inplace=True)\n",
    "ufo_pop_df.head()"
   ]
  },
  {
   "cell_type": "markdown",
   "metadata": {},
   "source": [
    "#### Creating new columns with the number of sites per million people. "
   ]
  },
  {
   "cell_type": "code",
   "execution_count": 61,
   "metadata": {},
   "outputs": [],
   "source": [
    "for year in year_list:\n",
    "    new_col = 'NperMil{0}'.format(year)\n",
    "    ufo_col = 'N{0}'.format(year)\n",
    "    pop_col = '{0}'.format(year)\n",
    "    \n",
    "    ufo_pop_df[new_col] = ufo_pop_df[ufo_col]/(ufo_pop_df[pop_col]/1e6)"
   ]
  },
  {
   "cell_type": "code",
   "execution_count": 63,
   "metadata": {},
   "outputs": [
    {
     "data": {
      "text/html": [
       "<div>\n",
       "<style scoped>\n",
       "    .dataframe tbody tr th:only-of-type {\n",
       "        vertical-align: middle;\n",
       "    }\n",
       "\n",
       "    .dataframe tbody tr th {\n",
       "        vertical-align: top;\n",
       "    }\n",
       "\n",
       "    .dataframe thead th {\n",
       "        text-align: right;\n",
       "    }\n",
       "</style>\n",
       "<table border=\"1\" class=\"dataframe\">\n",
       "  <thead>\n",
       "    <tr style=\"text-align: right;\">\n",
       "      <th></th>\n",
       "      <th>2010</th>\n",
       "      <th>2011</th>\n",
       "      <th>2012</th>\n",
       "      <th>2013</th>\n",
       "      <th>2014</th>\n",
       "      <th>2015</th>\n",
       "      <th>2016</th>\n",
       "      <th>2017</th>\n",
       "      <th>2018</th>\n",
       "      <th>state</th>\n",
       "      <th>...</th>\n",
       "      <th>N2018</th>\n",
       "      <th>NperMil2010</th>\n",
       "      <th>NperMil2011</th>\n",
       "      <th>NperMil2012</th>\n",
       "      <th>NperMil2013</th>\n",
       "      <th>NperMil2014</th>\n",
       "      <th>NperMil2015</th>\n",
       "      <th>NperMil2016</th>\n",
       "      <th>NperMil2017</th>\n",
       "      <th>NperMil2018</th>\n",
       "    </tr>\n",
       "  </thead>\n",
       "  <tbody>\n",
       "    <tr>\n",
       "      <th>0</th>\n",
       "      <td>4785448</td>\n",
       "      <td>4798834</td>\n",
       "      <td>4815564</td>\n",
       "      <td>4830460</td>\n",
       "      <td>4842481</td>\n",
       "      <td>4853160</td>\n",
       "      <td>4864745</td>\n",
       "      <td>4875120</td>\n",
       "      <td>4887871</td>\n",
       "      <td>AL</td>\n",
       "      <td>...</td>\n",
       "      <td>24</td>\n",
       "      <td>4.179337</td>\n",
       "      <td>6.043135</td>\n",
       "      <td>10.383000</td>\n",
       "      <td>14.491373</td>\n",
       "      <td>22.922134</td>\n",
       "      <td>11.950976</td>\n",
       "      <td>9.044667</td>\n",
       "      <td>11.281774</td>\n",
       "      <td>4.910113</td>\n",
       "    </tr>\n",
       "    <tr>\n",
       "      <th>1</th>\n",
       "      <td>713906</td>\n",
       "      <td>722038</td>\n",
       "      <td>730399</td>\n",
       "      <td>737045</td>\n",
       "      <td>736307</td>\n",
       "      <td>737547</td>\n",
       "      <td>741504</td>\n",
       "      <td>739786</td>\n",
       "      <td>737438</td>\n",
       "      <td>AK</td>\n",
       "      <td>...</td>\n",
       "      <td>20</td>\n",
       "      <td>15.408191</td>\n",
       "      <td>19.389561</td>\n",
       "      <td>54.764588</td>\n",
       "      <td>63.768155</td>\n",
       "      <td>52.967037</td>\n",
       "      <td>43.387066</td>\n",
       "      <td>48.549974</td>\n",
       "      <td>27.034845</td>\n",
       "      <td>27.120924</td>\n",
       "    </tr>\n",
       "    <tr>\n",
       "      <th>2</th>\n",
       "      <td>6407774</td>\n",
       "      <td>6473497</td>\n",
       "      <td>6556629</td>\n",
       "      <td>6634999</td>\n",
       "      <td>6733840</td>\n",
       "      <td>6833596</td>\n",
       "      <td>6945452</td>\n",
       "      <td>7048876</td>\n",
       "      <td>7171646</td>\n",
       "      <td>AZ</td>\n",
       "      <td>...</td>\n",
       "      <td>74</td>\n",
       "      <td>14.669681</td>\n",
       "      <td>19.618454</td>\n",
       "      <td>25.622923</td>\n",
       "      <td>31.801060</td>\n",
       "      <td>39.353474</td>\n",
       "      <td>36.144952</td>\n",
       "      <td>30.667551</td>\n",
       "      <td>26.954652</td>\n",
       "      <td>10.318412</td>\n",
       "    </tr>\n",
       "    <tr>\n",
       "      <th>3</th>\n",
       "      <td>2921978</td>\n",
       "      <td>2940407</td>\n",
       "      <td>2952109</td>\n",
       "      <td>2959549</td>\n",
       "      <td>2967726</td>\n",
       "      <td>2978407</td>\n",
       "      <td>2990410</td>\n",
       "      <td>3002997</td>\n",
       "      <td>3013825</td>\n",
       "      <td>AR</td>\n",
       "      <td>...</td>\n",
       "      <td>32</td>\n",
       "      <td>12.662655</td>\n",
       "      <td>11.903114</td>\n",
       "      <td>15.582080</td>\n",
       "      <td>16.894466</td>\n",
       "      <td>8.423958</td>\n",
       "      <td>12.422748</td>\n",
       "      <td>10.366471</td>\n",
       "      <td>11.988024</td>\n",
       "      <td>10.617737</td>\n",
       "    </tr>\n",
       "    <tr>\n",
       "      <th>4</th>\n",
       "      <td>37320903</td>\n",
       "      <td>37641823</td>\n",
       "      <td>37960782</td>\n",
       "      <td>38280824</td>\n",
       "      <td>38625139</td>\n",
       "      <td>38953142</td>\n",
       "      <td>39209127</td>\n",
       "      <td>39399349</td>\n",
       "      <td>39557045</td>\n",
       "      <td>CA</td>\n",
       "      <td>...</td>\n",
       "      <td>270</td>\n",
       "      <td>12.888220</td>\n",
       "      <td>13.229965</td>\n",
       "      <td>16.859505</td>\n",
       "      <td>17.058149</td>\n",
       "      <td>20.194102</td>\n",
       "      <td>18.612106</td>\n",
       "      <td>13.160201</td>\n",
       "      <td>13.096663</td>\n",
       "      <td>6.825586</td>\n",
       "    </tr>\n",
       "  </tbody>\n",
       "</table>\n",
       "<p>5 rows × 28 columns</p>\n",
       "</div>"
      ],
      "text/plain": [
       "       2010      2011      2012      2013      2014      2015      2016  \\\n",
       "0   4785448   4798834   4815564   4830460   4842481   4853160   4864745   \n",
       "1    713906    722038    730399    737045    736307    737547    741504   \n",
       "2   6407774   6473497   6556629   6634999   6733840   6833596   6945452   \n",
       "3   2921978   2940407   2952109   2959549   2967726   2978407   2990410   \n",
       "4  37320903  37641823  37960782  38280824  38625139  38953142  39209127   \n",
       "\n",
       "       2017      2018 state  ...  N2018  NperMil2010  NperMil2011  \\\n",
       "0   4875120   4887871    AL  ...     24     4.179337     6.043135   \n",
       "1    739786    737438    AK  ...     20    15.408191    19.389561   \n",
       "2   7048876   7171646    AZ  ...     74    14.669681    19.618454   \n",
       "3   3002997   3013825    AR  ...     32    12.662655    11.903114   \n",
       "4  39399349  39557045    CA  ...    270    12.888220    13.229965   \n",
       "\n",
       "   NperMil2012  NperMil2013  NperMil2014  NperMil2015  NperMil2016  \\\n",
       "0    10.383000    14.491373    22.922134    11.950976     9.044667   \n",
       "1    54.764588    63.768155    52.967037    43.387066    48.549974   \n",
       "2    25.622923    31.801060    39.353474    36.144952    30.667551   \n",
       "3    15.582080    16.894466     8.423958    12.422748    10.366471   \n",
       "4    16.859505    17.058149    20.194102    18.612106    13.160201   \n",
       "\n",
       "   NperMil2017  NperMil2018  \n",
       "0    11.281774     4.910113  \n",
       "1    27.034845    27.120924  \n",
       "2    26.954652    10.318412  \n",
       "3    11.988024    10.617737  \n",
       "4    13.096663     6.825586  \n",
       "\n",
       "[5 rows x 28 columns]"
      ]
     },
     "execution_count": 63,
     "metadata": {},
     "output_type": "execute_result"
    }
   ],
   "source": [
    "ufo_pop_df.head()"
   ]
  },
  {
   "cell_type": "code",
   "execution_count": 71,
   "metadata": {},
   "outputs": [
    {
     "data": {
      "text/plain": [
       "[10.613395245990976,\n",
       " 13.107387772108318,\n",
       " 19.663927924146993,\n",
       " 20.25579333486759,\n",
       " 22.877860108236213,\n",
       " 17.75566670544022,\n",
       " 14.507631568262095,\n",
       " 12.73577323171193,\n",
       " 7.720817347609237]"
      ]
     },
     "execution_count": 71,
     "metadata": {},
     "output_type": "execute_result"
    }
   ],
   "source": [
    "expected_ufo_rate = []\n",
    "for year in year_list:\n",
    "    pop_col='N{}'.format(year)\n",
    "    total_ufos = ufo_pop_df[pop_col].sum()\n",
    "    ufo_col='{}'.format(year)\n",
    "    total_pop = ufo_pop_df[ufo_col].sum()\n",
    "    expected_ufo_rate.append(total_ufos/(total_pop/1e6))\n",
    "expected_ufo_rate #expected rates per year\n"
   ]
  },
  {
   "cell_type": "code",
   "execution_count": 81,
   "metadata": {
    "scrolled": true
   },
   "outputs": [],
   "source": [
    "# observed values sightings for the year 2010 for all the states\n",
    "best_sightings = pd.DataFrame(ufo_pop_df['state'])\n",
    "for i, year in enumerate(year_list):\n",
    "    pop_col='NperMil{}'.format(year)\n",
    "    new_col='chi2_{}'.format(year)\n",
    "    best_sightings[new_col]=(ufo_pop_df[pop_col]-expected_ufo_rate[i])**2/expected_ufo_rate[i]\n",
    "    \n"
   ]
  },
  {
   "cell_type": "code",
   "execution_count": 85,
   "metadata": {},
   "outputs": [],
   "source": [
    "best_sightings = best_sightings.set_index('state').T"
   ]
  },
  {
   "cell_type": "code",
   "execution_count": 76,
   "metadata": {},
   "outputs": [],
   "source": [
    "# 1. cut the table and transpose chi-squared\n",
    "# 2. Map probabilities\n",
    "# 3. Plot table \n"
   ]
  },
  {
   "cell_type": "code",
   "execution_count": 92,
   "metadata": {},
   "outputs": [
    {
     "data": {
      "application/vnd.plotly.v1+json": {
       "config": {
        "linkText": "Export to plot.ly",
        "plotlyServerURL": "https://plot.ly",
        "showLink": true
       },
       "data": [
        {
         "line": {
          "color": "rgba(255, 153, 51, 1.0)",
          "dash": "solid",
          "shape": "linear",
          "width": 1.3
         },
         "mode": "lines",
         "name": "AL",
         "text": "",
         "type": "scatter",
         "uid": "50f66062-78f1-4955-95ae-9d8c34ccbff4",
         "x": [
          "chi2_2010",
          "chi2_2011",
          "chi2_2012",
          "chi2_2013",
          "chi2_2014",
          "chi2_2015",
          "chi2_2016",
          "chi2_2017",
          "chi2_2018"
         ],
         "y": [
          3.9004582654365834,
          3.8072934984808486,
          4.380387650233799,
          1.6404460477620881,
          8.568140581645337e-05,
          1.8976719712722634,
          2.0571227295473924,
          0.16599816578536167,
          1.023215205625186
         ]
        },
        {
         "line": {
          "color": "rgba(55, 128, 191, 1.0)",
          "dash": "solid",
          "shape": "linear",
          "width": 1.3
         },
         "mode": "lines",
         "name": "AK",
         "text": "",
         "type": "scatter",
         "uid": "73753889-a7fc-4d6e-9c1a-1460d399b1ae",
         "x": [
          "chi2_2010",
          "chi2_2011",
          "chi2_2012",
          "chi2_2013",
          "chi2_2014",
          "chi2_2015",
          "chi2_2016",
          "chi2_2017",
          "chi2_2018"
         ],
         "y": [
          2.1661368238405037,
          3.0109510638630823,
          62.65565621777832,
          93.4708213970313,
          39.57356818152835,
          37.00050328612253,
          79.88079102024197,
          16.05426351249476,
          48.74667067842636
         ]
        },
        {
         "line": {
          "color": "rgba(50, 171, 96, 1.0)",
          "dash": "solid",
          "shape": "linear",
          "width": 1.3
         },
         "mode": "lines",
         "name": "AZ",
         "text": "",
         "type": "scatter",
         "uid": "91ab5e66-e80b-423a-868c-77828622bf86",
         "x": [
          "chi2_2010",
          "chi2_2011",
          "chi2_2012",
          "chi2_2013",
          "chi2_2014",
          "chi2_2015",
          "chi2_2016",
          "chi2_2017",
          "chi2_2018"
         ],
         "y": [
          1.550253533735761,
          3.234357440068056,
          1.8058254911775942,
          6.580496534742788,
          11.86500244096228,
          19.045515014681524,
          18.000386821203872,
          15.874694961903579,
          0.873935882340057
         ]
        },
        {
         "line": {
          "color": "rgba(128, 0, 128, 1.0)",
          "dash": "solid",
          "shape": "linear",
          "width": 1.3
         },
         "mode": "lines",
         "name": "AR",
         "text": "",
         "type": "scatter",
         "uid": "f6251799-2690-4372-b315-2f86040cff9f",
         "x": [
          "chi2_2010",
          "chi2_2011",
          "chi2_2012",
          "chi2_2013",
          "chi2_2014",
          "chi2_2015",
          "chi2_2016",
          "chi2_2017",
          "chi2_2018"
         ],
         "y": [
          0.395676065916263,
          0.11064562368256334,
          0.8473118233136994,
          0.5577920926135995,
          9.13176657143195,
          1.601743317609249,
          1.1820817709903508,
          0.04390223955008213,
          1.0869498345456823
         ]
        },
        {
         "line": {
          "color": "rgba(219, 64, 82, 1.0)",
          "dash": "solid",
          "shape": "linear",
          "width": 1.3
         },
         "mode": "lines",
         "name": "CA",
         "text": "",
         "type": "scatter",
         "uid": "a7358f2c-b6f6-454a-8130-f40e9cc6610b",
         "x": [
          "chi2_2010",
          "chi2_2011",
          "chi2_2012",
          "chi2_2013",
          "chi2_2014",
          "chi2_2015",
          "chi2_2016",
          "chi2_2017",
          "chi2_2018"
         ],
         "y": [
          0.4875750417149722,
          0.0011463131844410633,
          0.3999601235004726,
          0.5047903610714058,
          0.3148265220199529,
          0.041310074604350724,
          0.1251457622333185,
          0.010226429975922572,
          0.10380244705454915
         ]
        },
        {
         "line": {
          "color": "rgba(0, 128, 128, 1.0)",
          "dash": "solid",
          "shape": "linear",
          "width": 1.3
         },
         "mode": "lines",
         "name": "CO",
         "text": "",
         "type": "scatter",
         "uid": "609a5a99-ab9d-4f5a-8975-77858244c8e5",
         "x": [
          "chi2_2010",
          "chi2_2011",
          "chi2_2012",
          "chi2_2013",
          "chi2_2014",
          "chi2_2015",
          "chi2_2016",
          "chi2_2017",
          "chi2_2018"
         ],
         "y": [
          0.0216622775806491,
          2.2585139185254817,
          0.018457430427569428,
          1.3189690770710891,
          4.546488352050909,
          3.3731829573873973,
          22.72790995899285,
          10.350164394237103,
          7.738800154387982
         ]
        },
        {
         "line": {
          "color": "rgba(255, 255, 51, 1.0)",
          "dash": "solid",
          "shape": "linear",
          "width": 1.3
         },
         "mode": "lines",
         "name": "CT",
         "text": "",
         "type": "scatter",
         "uid": "76eed1ce-bc6d-4208-922b-e2de81fcc2e8",
         "x": [
          "chi2_2010",
          "chi2_2011",
          "chi2_2012",
          "chi2_2013",
          "chi2_2014",
          "chi2_2015",
          "chi2_2016",
          "chi2_2017",
          "chi2_2018"
         ],
         "y": [
          1.8860592474842324,
          1.156619608116926,
          18.914557306537574,
          10.007150953599568,
          0.0477966168861107,
          0.3785927931550862,
          0.9210896989486507,
          5.712616732897467,
          11.330884508330191
         ]
        },
        {
         "line": {
          "color": "rgba(128, 128, 0, 1.0)",
          "dash": "solid",
          "shape": "linear",
          "width": 1.3
         },
         "mode": "lines",
         "name": "DE",
         "text": "",
         "type": "scatter",
         "uid": "e5c0beb0-ac11-4850-a2bc-3673fe60a540",
         "x": [
          "chi2_2010",
          "chi2_2011",
          "chi2_2012",
          "chi2_2013",
          "chi2_2014",
          "chi2_2015",
          "chi2_2016",
          "chi2_2017",
          "chi2_2018"
         ],
         "y": [
          0.27890565267874246,
          0.7754008162076435,
          4.922227157440245,
          2.6047460542120944,
          9.383521875872088,
          8.092333681819978,
          0.04546136161794999,
          5.229726968424045,
          0.03928375709169677
         ]
        },
        {
         "line": {
          "color": "rgba(251, 128, 114, 1.0)",
          "dash": "solid",
          "shape": "linear",
          "width": 1.3
         },
         "mode": "lines",
         "name": "DC",
         "text": "",
         "type": "scatter",
         "uid": "5a8b7c9e-91e0-4f25-b26a-6486d455e41b",
         "x": [
          "chi2_2010",
          "chi2_2011",
          "chi2_2012",
          "chi2_2013",
          "chi2_2014",
          "chi2_2015",
          "chi2_2016",
          "chi2_2017",
          "chi2_2018"
         ],
         "y": [
          0.08597242051238796,
          0.8943108248871084,
          1.5297241990596822,
          17.29760307611507,
          8.350083363328672,
          9.981779405415793,
          7.084643693458643,
          10.023167697218168,
          3.0764308416315567
         ]
        },
        {
         "line": {
          "color": "rgba(128, 177, 211, 1.0)",
          "dash": "solid",
          "shape": "linear",
          "width": 1.3
         },
         "mode": "lines",
         "name": "FL",
         "text": "",
         "type": "scatter",
         "uid": "bf387d1d-b398-4271-b7df-2c391305e621",
         "x": [
          "chi2_2010",
          "chi2_2011",
          "chi2_2012",
          "chi2_2013",
          "chi2_2014",
          "chi2_2015",
          "chi2_2016",
          "chi2_2017",
          "chi2_2018"
         ],
         "y": [
          0.1530320434603485,
          0.02412165186352659,
          0.003363715136668035,
          1.0854739839834593,
          1.7215262816287904,
          0.40010678174307934,
          0.0261545963669406,
          0.20439069339964397,
          0.09826010957390961
         ]
        },
        {
         "line": {
          "color": "rgba(128, 177, 211, 0.8999999999999999)",
          "dash": "solid",
          "shape": "linear",
          "width": 1.3
         },
         "mode": "lines",
         "name": "GA",
         "text": "",
         "type": "scatter",
         "uid": "7826b54c-0a3b-4d8c-9036-0198dc4d0d3b",
         "x": [
          "chi2_2010",
          "chi2_2011",
          "chi2_2012",
          "chi2_2013",
          "chi2_2014",
          "chi2_2015",
          "chi2_2016",
          "chi2_2017",
          "chi2_2018"
         ],
         "y": [
          2.405862738227247,
          2.443748270893261,
          4.850670046173401,
          2.7191994664443064,
          0.4239223184099512,
          2.0067147405381047,
          1.172353060511996,
          0.5930703852567292,
          0.38850359573881577
         ]
        },
        {
         "line": {
          "color": "rgba(255, 153, 51, 0.8999999999999999)",
          "dash": "solid",
          "shape": "linear",
          "width": 1.3
         },
         "mode": "lines",
         "name": "HI",
         "text": "",
         "type": "scatter",
         "uid": "cafb3af5-af7f-4ed7-a834-b4f8e4c011d6",
         "x": [
          "chi2_2010",
          "chi2_2011",
          "chi2_2012",
          "chi2_2013",
          "chi2_2014",
          "chi2_2015",
          "chi2_2016",
          "chi2_2017",
          "chi2_2018"
         ],
         "y": [
          4.593607291524939,
          0.04663897048534533,
          0.1727187212579327,
          12.566026064958795,
          14.344553374820832,
          0.043988958238921044,
          0.9427808088080031,
          0.6629494005488337,
          0.06006595921179651
         ]
        },
        {
         "line": {
          "color": "rgba(55, 128, 191, 0.8999999999999999)",
          "dash": "solid",
          "shape": "linear",
          "width": 1.3
         },
         "mode": "lines",
         "name": "ID",
         "text": "",
         "type": "scatter",
         "uid": "27546d27-a54f-4e1c-961a-7c02d9acdc52",
         "x": [
          "chi2_2010",
          "chi2_2011",
          "chi2_2012",
          "chi2_2013",
          "chi2_2014",
          "chi2_2015",
          "chi2_2016",
          "chi2_2017",
          "chi2_2018"
         ],
         "y": [
          1.0843562669506646,
          5.331553564509862,
          4.8790991012921685,
          64.7384904072243,
          32.77597647650707,
          71.09128471330703,
          44.13447681302835,
          10.745526468489954,
          25.17376974296388
         ]
        },
        {
         "line": {
          "color": "rgba(50, 171, 96, 0.8999999999999999)",
          "dash": "solid",
          "shape": "linear",
          "width": 1.3
         },
         "mode": "lines",
         "name": "IL",
         "text": "",
         "type": "scatter",
         "uid": "4cc6d14d-146d-4ae8-a10c-65f8bed03824",
         "x": [
          "chi2_2010",
          "chi2_2011",
          "chi2_2012",
          "chi2_2013",
          "chi2_2014",
          "chi2_2015",
          "chi2_2016",
          "chi2_2017",
          "chi2_2018"
         ],
         "y": [
          0.37789236839426815,
          0.024848902053120063,
          0.09224413028635713,
          3.47825489729452,
          5.001497348520505,
          1.8845534988167203,
          1.1807309643260089,
          3.0616517574330318,
          0.5548755624846493
         ]
        },
        {
         "line": {
          "color": "rgba(128, 0, 128, 0.8999999999999999)",
          "dash": "solid",
          "shape": "linear",
          "width": 1.3
         },
         "mode": "lines",
         "name": "IN",
         "text": "",
         "type": "scatter",
         "uid": "b3ecf671-d571-4706-85dc-1e581f72497d",
         "x": [
          "chi2_2010",
          "chi2_2011",
          "chi2_2012",
          "chi2_2013",
          "chi2_2014",
          "chi2_2015",
          "chi2_2016",
          "chi2_2017",
          "chi2_2018"
         ],
         "y": [
          0.05850509047715429,
          0.23386204482886086,
          0.10864533336265439,
          0.010627201918850786,
          0.2215964459790918,
          2.421896917154803,
          1.7302408824830982,
          2.271423274161695,
          1.235338026243357
         ]
        },
        {
         "line": {
          "color": "rgba(219, 64, 82, 0.8999999999999999)",
          "dash": "solid",
          "shape": "linear",
          "width": 1.3
         },
         "mode": "lines",
         "name": "IA",
         "text": "",
         "type": "scatter",
         "uid": "be280e73-7061-450b-95ad-f2f1134b3353",
         "x": [
          "chi2_2010",
          "chi2_2011",
          "chi2_2012",
          "chi2_2013",
          "chi2_2014",
          "chi2_2015",
          "chi2_2016",
          "chi2_2017",
          "chi2_2018"
         ],
         "y": [
          0.02660086560134806,
          0.31075567411588834,
          2.7236547673090663,
          0.45085494028564477,
          0.17036052822843079,
          1.0415633560225765,
          0.29099625850774796,
          0.00853832122202133,
          0.0051931489286996865
         ]
        },
        {
         "line": {
          "color": "rgba(0, 128, 128, 0.8999999999999999)",
          "dash": "solid",
          "shape": "linear",
          "width": 1.3
         },
         "mode": "lines",
         "name": "KS",
         "text": "",
         "type": "scatter",
         "uid": "d5fe5d4f-730c-4b9a-8ef5-2d95ce572a3e",
         "x": [
          "chi2_2010",
          "chi2_2011",
          "chi2_2012",
          "chi2_2013",
          "chi2_2014",
          "chi2_2015",
          "chi2_2016",
          "chi2_2017",
          "chi2_2018"
         ],
         "y": [
          0.5122853343007556,
          0.06292343290788072,
          0.08532945228255974,
          0.34151434634394723,
          0.21052007196791658,
          0.7560528365508078,
          0.012415033481244467,
          0.22526770023441142,
          0.1894020907247962
         ]
        },
        {
         "line": {
          "color": "rgba(255, 255, 51, 0.8999999999999999)",
          "dash": "solid",
          "shape": "linear",
          "width": 1.3
         },
         "mode": "lines",
         "name": "KY",
         "text": "",
         "type": "scatter",
         "uid": "2083ba3a-b2a4-43ff-855d-776308f7e896",
         "x": [
          "chi2_2010",
          "chi2_2011",
          "chi2_2012",
          "chi2_2013",
          "chi2_2014",
          "chi2_2015",
          "chi2_2016",
          "chi2_2017",
          "chi2_2018"
         ],
         "y": [
          0.049421682734461,
          0.029725477237031367,
          3.1011760373973436,
          0.045378494973273314,
          1.5155442099171414,
          1.1029526388743804,
          0.7244300652941628,
          0.002072101546757371,
          0.19624677386794992
         ]
        },
        {
         "line": {
          "color": "rgba(128, 128, 0, 0.8999999999999999)",
          "dash": "solid",
          "shape": "linear",
          "width": 1.3
         },
         "mode": "lines",
         "name": "LA",
         "text": "",
         "type": "scatter",
         "uid": "5c26ca79-70b4-4a94-aefd-6160f4c0adb7",
         "x": [
          "chi2_2010",
          "chi2_2011",
          "chi2_2012",
          "chi2_2013",
          "chi2_2014",
          "chi2_2015",
          "chi2_2016",
          "chi2_2017",
          "chi2_2018"
         ],
         "y": [
          2.904705832414025,
          4.456828942301137,
          6.868817202235645,
          4.607078866052895,
          0.21289384086570282,
          2.004181648948862,
          1.9479975152031654,
          3.3450554841296083,
          1.004709891323654
         ]
        },
        {
         "line": {
          "color": "rgba(251, 128, 114, 0.8999999999999999)",
          "dash": "solid",
          "shape": "linear",
          "width": 1.3
         },
         "mode": "lines",
         "name": "ME",
         "text": "",
         "type": "scatter",
         "uid": "006972be-a06b-4f5b-9e77-0c7b893bf842",
         "x": [
          "chi2_2010",
          "chi2_2011",
          "chi2_2012",
          "chi2_2013",
          "chi2_2014",
          "chi2_2015",
          "chi2_2016",
          "chi2_2017",
          "chi2_2018"
         ],
         "y": [
          6.361878189090656,
          13.384172916507842,
          117.76977188262356,
          54.416602495246465,
          10.428517484259677,
          22.261222934096697,
          67.57172879973064,
          3.5658317507023094,
          6.756071497150256
         ]
        },
        {
         "line": {
          "color": "rgba(251, 128, 114, 0.7999999999999998)",
          "dash": "solid",
          "shape": "linear",
          "width": 1.3
         },
         "mode": "lines",
         "name": "MD",
         "text": "",
         "type": "scatter",
         "uid": "99d44cf8-53d2-48e8-8275-8738b99d087d",
         "x": [
          "chi2_2010",
          "chi2_2011",
          "chi2_2012",
          "chi2_2013",
          "chi2_2014",
          "chi2_2015",
          "chi2_2016",
          "chi2_2017",
          "chi2_2018"
         ],
         "y": [
          1.4155574096434433,
          0.9435218009852101,
          0.5165753915340259,
          0.316102651310572,
          0.006570646275215037,
          0.0623321049968652,
          0.04999419110428306,
          0.14788171160934868,
          0.0004228730224463719
         ]
        },
        {
         "line": {
          "color": "rgba(128, 177, 211, 0.7999999999999998)",
          "dash": "solid",
          "shape": "linear",
          "width": 1.3
         },
         "mode": "lines",
         "name": "MA",
         "text": "",
         "type": "scatter",
         "uid": "efa95420-3399-46ef-9299-2df990c3a69d",
         "x": [
          "chi2_2010",
          "chi2_2011",
          "chi2_2012",
          "chi2_2013",
          "chi2_2014",
          "chi2_2015",
          "chi2_2016",
          "chi2_2017",
          "chi2_2018"
         ],
         "y": [
          0.386993928012359,
          0.0008092815320061529,
          0.00469169597396003,
          1.6661257318492206,
          0.5170356807972348,
          0.04893104899995718,
          0.023322640121263064,
          0.0005827276965034611,
          0.029432085378001075
         ]
        },
        {
         "line": {
          "color": "rgba(255, 153, 51, 0.7999999999999998)",
          "dash": "solid",
          "shape": "linear",
          "width": 1.3
         },
         "mode": "lines",
         "name": "MI",
         "text": "",
         "type": "scatter",
         "uid": "d9ba22ed-2416-4423-99ce-866da138aae9",
         "x": [
          "chi2_2010",
          "chi2_2011",
          "chi2_2012",
          "chi2_2013",
          "chi2_2014",
          "chi2_2015",
          "chi2_2016",
          "chi2_2017",
          "chi2_2018"
         ],
         "y": [
          0.022568083671578552,
          0.05672963627840608,
          0.0029594354511243595,
          1.0538845364509744,
          1.826323910951337,
          0.2604472931030035,
          0.48427016860373295,
          0.06472396868057377,
          1.2599405690104484
         ]
        },
        {
         "line": {
          "color": "rgba(55, 128, 191, 0.7999999999999998)",
          "dash": "solid",
          "shape": "linear",
          "width": 1.3
         },
         "mode": "lines",
         "name": "MN",
         "text": "",
         "type": "scatter",
         "uid": "e3398754-4843-4525-87da-d8b3b7e38c04",
         "x": [
          "chi2_2010",
          "chi2_2011",
          "chi2_2012",
          "chi2_2013",
          "chi2_2014",
          "chi2_2015",
          "chi2_2016",
          "chi2_2017",
          "chi2_2018"
         ],
         "y": [
          0.5108372382214396,
          0.04417606006251144,
          0.4660288662616347,
          0.01880651483083718,
          1.876512578849798,
          2.1222260881751334,
          0.08494430480647516,
          1.8401153833894447e-05,
          0.02948230967685594
         ]
        },
        {
         "line": {
          "color": "rgba(50, 171, 96, 0.7999999999999998)",
          "dash": "solid",
          "shape": "linear",
          "width": 1.3
         },
         "mode": "lines",
         "name": "MS",
         "text": "",
         "type": "scatter",
         "uid": "53fb0d49-e256-45e0-9c61-0d718f87f196",
         "x": [
          "chi2_2010",
          "chi2_2011",
          "chi2_2012",
          "chi2_2013",
          "chi2_2014",
          "chi2_2015",
          "chi2_2016",
          "chi2_2017",
          "chi2_2018"
         ],
         "y": [
          4.499321087298823,
          4.177524882997107,
          3.7647740747974128,
          4.191795692065411,
          3.6742289573635873,
          2.5388220918652937,
          1.8194885407009012,
          3.5405465266066947,
          0.2391794823043284
         ]
        },
        {
         "line": {
          "color": "rgba(128, 0, 128, 0.7999999999999998)",
          "dash": "solid",
          "shape": "linear",
          "width": 1.3
         },
         "mode": "lines",
         "name": "MO",
         "text": "",
         "type": "scatter",
         "uid": "ca2988ff-fae0-4308-9adf-afc69b0ba0e9",
         "x": [
          "chi2_2010",
          "chi2_2011",
          "chi2_2012",
          "chi2_2013",
          "chi2_2014",
          "chi2_2015",
          "chi2_2016",
          "chi2_2017",
          "chi2_2018"
         ],
         "y": [
          1.310570112899189,
          2.3325411319366185,
          1.063084098138885,
          0.6171865119609576,
          0.08721944352009743,
          0.9401892732484978,
          0.04090224978517197,
          0.7758668235016748,
          0.001685013796162364
         ]
        },
        {
         "line": {
          "color": "rgba(219, 64, 82, 0.7999999999999998)",
          "dash": "solid",
          "shape": "linear",
          "width": 1.3
         },
         "mode": "lines",
         "name": "MT",
         "text": "",
         "type": "scatter",
         "uid": "985d5a3f-d49f-4795-8200-1aa653c28ce2",
         "x": [
          "chi2_2010",
          "chi2_2011",
          "chi2_2012",
          "chi2_2013",
          "chi2_2014",
          "chi2_2015",
          "chi2_2016",
          "chi2_2017",
          "chi2_2018"
         ],
         "y": [
          17.456164839111874,
          33.604662645998566,
          90.15305614658499,
          33.66963870874689,
          25.37453777631522,
          46.790457760673895,
          49.52340786506171,
          79.87560870552392,
          28.64507929136813
         ]
        },
        {
         "line": {
          "color": "rgba(0, 128, 128, 0.7999999999999998)",
          "dash": "solid",
          "shape": "linear",
          "width": 1.3
         },
         "mode": "lines",
         "name": "NE",
         "text": "",
         "type": "scatter",
         "uid": "cb9f63e6-8760-4501-8dec-cb64c242ed8c",
         "x": [
          "chi2_2010",
          "chi2_2011",
          "chi2_2012",
          "chi2_2013",
          "chi2_2014",
          "chi2_2015",
          "chi2_2016",
          "chi2_2017",
          "chi2_2018"
         ],
         "y": [
          3.1523397495738252,
          0.21988505773423925,
          0.3073755338823604,
          1.970570222656595,
          4.008739420250972,
          2.1126948655497797,
          3.5357848297422296,
          0.8806099007651517,
          0.5862281258229352
         ]
        },
        {
         "line": {
          "color": "rgba(255, 255, 51, 0.7999999999999998)",
          "dash": "solid",
          "shape": "linear",
          "width": 1.3
         },
         "mode": "lines",
         "name": "NV",
         "text": "",
         "type": "scatter",
         "uid": "e48e7bed-dd60-41ae-8026-5847953cbe71",
         "x": [
          "chi2_2010",
          "chi2_2011",
          "chi2_2012",
          "chi2_2013",
          "chi2_2014",
          "chi2_2015",
          "chi2_2016",
          "chi2_2017",
          "chi2_2018"
         ],
         "y": [
          2.644668349023196,
          0.5741984008266994,
          1.32911584753975,
          0.5477339949058562,
          3.0393909281963483,
          15.811007272966405,
          2.5162463808246853,
          1.5354016710890757,
          5.9531518161335315
         ]
        },
        {
         "line": {
          "color": "rgba(128, 128, 0, 0.7999999999999998)",
          "dash": "solid",
          "shape": "linear",
          "width": 1.3
         },
         "mode": "lines",
         "name": "NH",
         "text": "",
         "type": "scatter",
         "uid": "8de458c7-baf5-4986-a402-fd1d3cc1c0b2",
         "x": [
          "chi2_2010",
          "chi2_2011",
          "chi2_2012",
          "chi2_2013",
          "chi2_2014",
          "chi2_2015",
          "chi2_2016",
          "chi2_2017",
          "chi2_2018"
         ],
         "y": [
          0.8801374699324115,
          5.996245662637468,
          69.56050699685817,
          30.803942061087053,
          78.49754605452682,
          96.35812466585271,
          23.00845145455497,
          43.60893647003565,
          7.800747086610782
         ]
        },
        {
         "line": {
          "color": "rgba(128, 128, 0, 0.7)",
          "dash": "solid",
          "shape": "linear",
          "width": 1.3
         },
         "mode": "lines",
         "name": "NJ",
         "text": "",
         "type": "scatter",
         "uid": "163ec264-3474-42bb-9607-bf5664acc08e",
         "x": [
          "chi2_2010",
          "chi2_2011",
          "chi2_2012",
          "chi2_2013",
          "chi2_2014",
          "chi2_2015",
          "chi2_2016",
          "chi2_2017",
          "chi2_2018"
         ],
         "y": [
          0.5060780146576167,
          1.8703624367323384,
          1.890859381696808,
          0.6617929783655756,
          1.4377556367600008,
          1.1171333705578272,
          0.6261862507510528,
          0.1479819965252122,
          0.4595832200819029
         ]
        },
        {
         "line": {
          "color": "rgba(251, 128, 114, 0.7)",
          "dash": "solid",
          "shape": "linear",
          "width": 1.3
         },
         "mode": "lines",
         "name": "NM",
         "text": "",
         "type": "scatter",
         "uid": "6c13a58a-adc7-4a39-862a-56e044acb03d",
         "x": [
          "chi2_2010",
          "chi2_2011",
          "chi2_2012",
          "chi2_2013",
          "chi2_2014",
          "chi2_2015",
          "chi2_2016",
          "chi2_2017",
          "chi2_2018"
         ],
         "y": [
          0.36935105680725944,
          0.052846371902384864,
          0.5637665808252996,
          12.732262914260202,
          28.288172532188224,
          9.318897809609604,
          23.49606279452959,
          29.155633808772055,
          35.76747319486306
         ]
        },
        {
         "line": {
          "color": "rgba(128, 177, 211, 0.7)",
          "dash": "solid",
          "shape": "linear",
          "width": 1.3
         },
         "mode": "lines",
         "name": "NY",
         "text": "",
         "type": "scatter",
         "uid": "3259d1e8-d968-4861-9237-7ecdf7bcf5a7",
         "x": [
          "chi2_2010",
          "chi2_2011",
          "chi2_2012",
          "chi2_2013",
          "chi2_2014",
          "chi2_2015",
          "chi2_2016",
          "chi2_2017",
          "chi2_2018"
         ],
         "y": [
          1.2942109236411832,
          0.5546672352779723,
          0.6302929779276599,
          3.7725767124612215,
          2.401417343806662,
          1.2628350921634266,
          1.5771425979755143,
          1.5308611969121846,
          1.5627749813324316
         ]
        },
        {
         "line": {
          "color": "rgba(255, 153, 51, 0.7)",
          "dash": "solid",
          "shape": "linear",
          "width": 1.3
         },
         "mode": "lines",
         "name": "NC",
         "text": "",
         "type": "scatter",
         "uid": "23486638-dcdc-4134-96ec-6f5d91b7edb0",
         "x": [
          "chi2_2010",
          "chi2_2011",
          "chi2_2012",
          "chi2_2013",
          "chi2_2014",
          "chi2_2015",
          "chi2_2016",
          "chi2_2017",
          "chi2_2018"
         ],
         "y": [
          0.07225369666011165,
          0.8079362293213106,
          0.10932085580356272,
          0.1540768657204985,
          0.4183505309581631,
          0.08251227322680936,
          1.4541703951242901,
          0.10375626853292833,
          0.11607621308667183
         ]
        },
        {
         "line": {
          "color": "rgba(55, 128, 191, 0.7)",
          "dash": "solid",
          "shape": "linear",
          "width": 1.3
         },
         "mode": "lines",
         "name": "ND",
         "text": "",
         "type": "scatter",
         "uid": "35b44e7e-6a8c-409b-b098-e8551c511ad9",
         "x": [
          "chi2_2010",
          "chi2_2011",
          "chi2_2012",
          "chi2_2013",
          "chi2_2014",
          "chi2_2015",
          "chi2_2016",
          "chi2_2017",
          "chi2_2018"
         ],
         "y": [
          3.5834328075189292,
          0.16898116182979406,
          2.3703986398349857,
          8.773008946392855,
          3.7938302223800795,
          0.5649669315150954,
          0.13510908683709885,
          0.05254171375292735,
          1.0186537084652263
         ]
        },
        {
         "line": {
          "color": "rgba(50, 171, 96, 0.7)",
          "dash": "solid",
          "shape": "linear",
          "width": 1.3
         },
         "mode": "lines",
         "name": "OH",
         "text": "",
         "type": "scatter",
         "uid": "a539d52a-166a-43b7-b104-6f84d7174924",
         "x": [
          "chi2_2010",
          "chi2_2011",
          "chi2_2012",
          "chi2_2013",
          "chi2_2014",
          "chi2_2015",
          "chi2_2016",
          "chi2_2017",
          "chi2_2018"
         ],
         "y": [
          0.3573110468853142,
          0.31095434803060423,
          0.037476614145651996,
          3.9466824855236555,
          0.029001423324983417,
          0.1246330672432943,
          0.45206015833756097,
          0.22061710827881828,
          0.3157710399893938
         ]
        },
        {
         "line": {
          "color": "rgba(128, 0, 128, 0.7)",
          "dash": "solid",
          "shape": "linear",
          "width": 1.3
         },
         "mode": "lines",
         "name": "OK",
         "text": "",
         "type": "scatter",
         "uid": "6b14479f-f7c4-4779-afca-2f6cd5252240",
         "x": [
          "chi2_2010",
          "chi2_2011",
          "chi2_2012",
          "chi2_2013",
          "chi2_2014",
          "chi2_2015",
          "chi2_2016",
          "chi2_2017",
          "chi2_2018"
         ],
         "y": [
          1.4803722652944111,
          0.23504135890255612,
          0.08412376614364606,
          0.013970030403954633,
          0.06497963070089106,
          0.10829564170138387,
          1.9654032716405394,
          0.18799989893347172,
          0.05443245106764561
         ]
        },
        {
         "line": {
          "color": "rgba(219, 64, 82, 0.7)",
          "dash": "solid",
          "shape": "linear",
          "width": 1.3
         },
         "mode": "lines",
         "name": "OR",
         "text": "",
         "type": "scatter",
         "uid": "2ed50e02-3f6c-4bc7-aa68-a91badc1971e",
         "x": [
          "chi2_2010",
          "chi2_2011",
          "chi2_2012",
          "chi2_2013",
          "chi2_2014",
          "chi2_2015",
          "chi2_2016",
          "chi2_2017",
          "chi2_2018"
         ],
         "y": [
          5.862571878527158,
          7.841378862324648,
          13.841953968860295,
          25.147666985272103,
          33.2362322071157,
          56.01085865929981,
          35.34173711749036,
          13.90951501879685,
          20.439162891384598
         ]
        },
        {
         "line": {
          "color": "rgba(0, 128, 128, 0.7)",
          "dash": "solid",
          "shape": "linear",
          "width": 1.3
         },
         "mode": "lines",
         "name": "PA",
         "text": "",
         "type": "scatter",
         "uid": "6838e055-43d0-4b89-9295-6f68f5e19acc",
         "x": [
          "chi2_2010",
          "chi2_2011",
          "chi2_2012",
          "chi2_2013",
          "chi2_2014",
          "chi2_2015",
          "chi2_2016",
          "chi2_2017",
          "chi2_2018"
         ],
         "y": [
          0.027832259815735626,
          0.22833817823803515,
          6.592288774747991e-07,
          0.03146070392105854,
          0.7063923782611804,
          0.04977318873985336,
          0.017595962016088876,
          0.07982316572815788,
          1.074094584604838
         ]
        },
        {
         "line": {
          "color": "rgba(255, 255, 51, 0.7)",
          "dash": "solid",
          "shape": "linear",
          "width": 1.3
         },
         "mode": "lines",
         "name": "RI",
         "text": "",
         "type": "scatter",
         "uid": "900dd883-0908-4ad5-888f-ed773a968d2c",
         "x": [
          "chi2_2010",
          "chi2_2011",
          "chi2_2012",
          "chi2_2013",
          "chi2_2014",
          "chi2_2015",
          "chi2_2016",
          "chi2_2017",
          "chi2_2018"
         ],
         "y": [
          1.2339815552642266,
          0.329934906833636,
          4.815611135234177,
          5.008656491951847,
          3.0634116456445604,
          37.48249566081418,
          11.518355153257923,
          11.070749377036616,
          9.047000598119679
         ]
        },
        {
         "line": {
          "color": "rgba(255, 255, 51, 0.5999999999999999)",
          "dash": "solid",
          "shape": "linear",
          "width": 1.3
         },
         "mode": "lines",
         "name": "SC",
         "text": "",
         "type": "scatter",
         "uid": "cd7aab7d-8421-4084-8f7d-42110f23a834",
         "x": [
          "chi2_2010",
          "chi2_2011",
          "chi2_2012",
          "chi2_2013",
          "chi2_2014",
          "chi2_2015",
          "chi2_2016",
          "chi2_2017",
          "chi2_2018"
         ],
         "y": [
          0.06331100000999401,
          4.726825945789674,
          9.432561552088883,
          3.7457603100490027,
          29.65353896915206,
          0.15571752620451948,
          0.1400593298656927,
          3.1991649774303257,
          4.433761237786477
         ]
        },
        {
         "line": {
          "color": "rgba(128, 128, 0, 0.5999999999999999)",
          "dash": "solid",
          "shape": "linear",
          "width": 1.3
         },
         "mode": "lines",
         "name": "SD",
         "text": "",
         "type": "scatter",
         "uid": "79d03e63-e966-4213-8f2f-5a4ae7f2ee0f",
         "x": [
          "chi2_2010",
          "chi2_2011",
          "chi2_2012",
          "chi2_2013",
          "chi2_2014",
          "chi2_2015",
          "chi2_2016",
          "chi2_2017",
          "chi2_2018"
         ],
         "y": [
          0.062040498542557575,
          1.1565789914417355,
          3.19853563562284,
          0.2616810101986572,
          0.020023347046850746,
          1.3379836984550142,
          6.6594589505246145,
          2.4499102913298696,
          1.6916888508581713
         ]
        },
        {
         "line": {
          "color": "rgba(251, 128, 114, 0.5999999999999999)",
          "dash": "solid",
          "shape": "linear",
          "width": 1.3
         },
         "mode": "lines",
         "name": "TN",
         "text": "",
         "type": "scatter",
         "uid": "0fe9f3e5-41ed-4967-8789-c8e46776424d",
         "x": [
          "chi2_2010",
          "chi2_2011",
          "chi2_2012",
          "chi2_2013",
          "chi2_2014",
          "chi2_2015",
          "chi2_2016",
          "chi2_2017",
          "chi2_2018"
         ],
         "y": [
          1.0734492424626882,
          0.0064029879489508985,
          0.7550114957384038,
          0.21432514692310614,
          0.11566740924983362,
          0.46924326991745463,
          0.003979421179552968,
          0.09661123621514936,
          0.2980573866517994
         ]
        },
        {
         "line": {
          "color": "rgba(128, 177, 211, 0.5999999999999999)",
          "dash": "solid",
          "shape": "linear",
          "width": 1.3
         },
         "mode": "lines",
         "name": "TX",
         "text": "",
         "type": "scatter",
         "uid": "ea5f110e-f515-441a-85e8-1eb8402b0547",
         "x": [
          "chi2_2010",
          "chi2_2011",
          "chi2_2012",
          "chi2_2013",
          "chi2_2014",
          "chi2_2015",
          "chi2_2016",
          "chi2_2017",
          "chi2_2018"
         ],
         "y": [
          1.1953521903181308,
          2.3111582332100715,
          6.635870237039694,
          7.411533253990366,
          7.239362475558189,
          8.218878622048418,
          6.4527185638988,
          6.103551911912816,
          3.5659631962135996
         ]
        },
        {
         "line": {
          "color": "rgba(255, 153, 51, 0.5999999999999999)",
          "dash": "solid",
          "shape": "linear",
          "width": 1.3
         },
         "mode": "lines",
         "name": "UT",
         "text": "",
         "type": "scatter",
         "uid": "afac4d97-926c-4ffa-b995-014119ade180",
         "x": [
          "chi2_2010",
          "chi2_2011",
          "chi2_2012",
          "chi2_2013",
          "chi2_2014",
          "chi2_2015",
          "chi2_2016",
          "chi2_2017",
          "chi2_2018"
         ],
         "y": [
          0.25260733096192634,
          0.4873849611060354,
          12.031170137295804,
          5.046807283988705,
          0.17033524011573664,
          2.29619715173413,
          9.57422813517694,
          3.7620286910939185,
          1.742215695130356
         ]
        },
        {
         "line": {
          "color": "rgba(55, 128, 191, 0.5999999999999999)",
          "dash": "solid",
          "shape": "linear",
          "width": 1.3
         },
         "mode": "lines",
         "name": "VT",
         "text": "",
         "type": "scatter",
         "uid": "6eb8354c-292c-4035-95e4-dbe7b00cfe48",
         "x": [
          "chi2_2010",
          "chi2_2011",
          "chi2_2012",
          "chi2_2013",
          "chi2_2014",
          "chi2_2015",
          "chi2_2016",
          "chi2_2017",
          "chi2_2018"
         ],
         "y": [
          4.566632710505194,
          22.56170598426329,
          184.3003494391567,
          331.5174862405662,
          39.087267958630534,
          146.61861488614264,
          25.318642310955994,
          9.995024809550015,
          66.24808340124162
         ]
        },
        {
         "line": {
          "color": "rgba(50, 171, 96, 0.5999999999999999)",
          "dash": "solid",
          "shape": "linear",
          "width": 1.3
         },
         "mode": "lines",
         "name": "VA",
         "text": "",
         "type": "scatter",
         "uid": "775c1113-beca-4afc-aa92-39e200286fe2",
         "x": [
          "chi2_2010",
          "chi2_2011",
          "chi2_2012",
          "chi2_2013",
          "chi2_2014",
          "chi2_2015",
          "chi2_2016",
          "chi2_2017",
          "chi2_2018"
         ],
         "y": [
          1.1604250604393314,
          0.736947551475026,
          1.2116668347849524,
          0.2303669125059281,
          0.36935990699150234,
          0.24630765496155438,
          0.35258798033006683,
          0.2739150008551421,
          0.005551874343656593
         ]
        },
        {
         "line": {
          "color": "rgba(128, 0, 128, 0.5999999999999999)",
          "dash": "solid",
          "shape": "linear",
          "width": 1.3
         },
         "mode": "lines",
         "name": "WA",
         "text": "",
         "type": "scatter",
         "uid": "9785ecf6-2b86-4c32-910d-29441331c360",
         "x": [
          "chi2_2010",
          "chi2_2011",
          "chi2_2012",
          "chi2_2013",
          "chi2_2014",
          "chi2_2015",
          "chi2_2016",
          "chi2_2017",
          "chi2_2018"
         ],
         "y": [
          40.86976722002718,
          42.806665000790986,
          51.5508131234472,
          22.89946113041652,
          24.40866997908055,
          13.475282775361197,
          10.070410084706307,
          8.984945936595375,
          10.80238837818064
         ]
        },
        {
         "line": {
          "color": "rgba(219, 64, 82, 0.5999999999999999)",
          "dash": "solid",
          "shape": "linear",
          "width": 1.3
         },
         "mode": "lines",
         "name": "WV",
         "text": "",
         "type": "scatter",
         "uid": "2dbc223e-2086-4275-970e-181d203420ee",
         "x": [
          "chi2_2010",
          "chi2_2011",
          "chi2_2012",
          "chi2_2013",
          "chi2_2014",
          "chi2_2015",
          "chi2_2016",
          "chi2_2017",
          "chi2_2018"
         ],
         "y": [
          0.6001032478385275,
          0.4148817248698422,
          3.0965403442715957,
          2.9986528252042537,
          3.998125149227374,
          4.964588271610536,
          0.050195991886772436,
          0.23470326386639923,
          0.00013132044237605482
         ]
        },
        {
         "line": {
          "color": "rgba(0, 128, 128, 0.5999999999999999)",
          "dash": "solid",
          "shape": "linear",
          "width": 1.3
         },
         "mode": "lines",
         "name": "WI",
         "text": "",
         "type": "scatter",
         "uid": "0c33e468-fbf7-4187-adfc-3fdabae3d0be",
         "x": [
          "chi2_2010",
          "chi2_2011",
          "chi2_2012",
          "chi2_2013",
          "chi2_2014",
          "chi2_2015",
          "chi2_2016",
          "chi2_2017",
          "chi2_2018"
         ],
         "y": [
          0.15913288264605477,
          0.3503867451077483,
          0.3746564156630755,
          3.869941040025531,
          0.0026159385497883107,
          0.4183481644288096,
          1.5355982696554096,
          0.05316957820419553,
          0.3744968733619856
         ]
        },
        {
         "line": {
          "color": "rgba(0, 128, 128, 0.49999999999999983)",
          "dash": "solid",
          "shape": "linear",
          "width": 1.3
         },
         "mode": "lines",
         "name": "WY",
         "text": "",
         "type": "scatter",
         "uid": "7aeddf5b-5a58-408f-86b8-33fb55d38e94",
         "x": [
          "chi2_2010",
          "chi2_2011",
          "chi2_2012",
          "chi2_2013",
          "chi2_2014",
          "chi2_2015",
          "chi2_2016",
          "chi2_2017",
          "chi2_2018"
         ],
         "y": [
          7.418770091634837,
          17.39590972275138,
          0.06838791548266057,
          2.5805015542780954,
          4.1445518889236395,
          7.154664159462978,
          6.159557222485527,
          17.434874883551718,
          22.05716616172042
         ]
        }
       ],
       "layout": {
        "legend": {
         "bgcolor": "#F5F6F9",
         "font": {
          "color": "#4D5663"
         }
        },
        "paper_bgcolor": "#F5F6F9",
        "plot_bgcolor": "#F5F6F9",
        "title": {
         "font": {
          "color": "#4D5663"
         }
        },
        "xaxis": {
         "gridcolor": "#E1E5ED",
         "showgrid": true,
         "tickfont": {
          "color": "#4D5663"
         },
         "title": {
          "font": {
           "color": "#4D5663"
          },
          "text": ""
         },
         "zerolinecolor": "#E1E5ED"
        },
        "yaxis": {
         "gridcolor": "#E1E5ED",
         "showgrid": true,
         "tickfont": {
          "color": "#4D5663"
         },
         "title": {
          "font": {
           "color": "#4D5663"
          },
          "text": ""
         },
         "zerolinecolor": "#E1E5ED"
        }
       }
      },
      "text/html": [
       "<div>\n",
       "        \n",
       "        \n",
       "            <div id=\"7ad99ab2-3218-4138-a236-c95d8d6ca660\" class=\"plotly-graph-div\" style=\"height:525px; width:100%;\"></div>\n",
       "            <script type=\"text/javascript\">\n",
       "                require([\"plotly\"], function(Plotly) {\n",
       "                    window.PLOTLYENV=window.PLOTLYENV || {};\n",
       "                    window.PLOTLYENV.BASE_URL='https://plot.ly';\n",
       "                    \n",
       "                if (document.getElementById(\"7ad99ab2-3218-4138-a236-c95d8d6ca660\")) {\n",
       "                    Plotly.newPlot(\n",
       "                        '7ad99ab2-3218-4138-a236-c95d8d6ca660',\n",
       "                        [{\"line\": {\"color\": \"rgba(255, 153, 51, 1.0)\", \"dash\": \"solid\", \"shape\": \"linear\", \"width\": 1.3}, \"mode\": \"lines\", \"name\": \"AL\", \"text\": \"\", \"type\": \"scatter\", \"uid\": \"50f66062-78f1-4955-95ae-9d8c34ccbff4\", \"x\": [\"chi2_2010\", \"chi2_2011\", \"chi2_2012\", \"chi2_2013\", \"chi2_2014\", \"chi2_2015\", \"chi2_2016\", \"chi2_2017\", \"chi2_2018\"], \"y\": [3.9004582654365834, 3.8072934984808486, 4.380387650233799, 1.6404460477620881, 8.568140581645337e-05, 1.8976719712722634, 2.0571227295473924, 0.16599816578536167, 1.023215205625186]}, {\"line\": {\"color\": \"rgba(55, 128, 191, 1.0)\", \"dash\": \"solid\", \"shape\": \"linear\", \"width\": 1.3}, \"mode\": \"lines\", \"name\": \"AK\", \"text\": \"\", \"type\": \"scatter\", \"uid\": \"73753889-a7fc-4d6e-9c1a-1460d399b1ae\", \"x\": [\"chi2_2010\", \"chi2_2011\", \"chi2_2012\", \"chi2_2013\", \"chi2_2014\", \"chi2_2015\", \"chi2_2016\", \"chi2_2017\", \"chi2_2018\"], \"y\": [2.1661368238405037, 3.0109510638630823, 62.65565621777832, 93.4708213970313, 39.57356818152835, 37.00050328612253, 79.88079102024197, 16.05426351249476, 48.74667067842636]}, {\"line\": {\"color\": \"rgba(50, 171, 96, 1.0)\", \"dash\": \"solid\", \"shape\": \"linear\", \"width\": 1.3}, \"mode\": \"lines\", \"name\": \"AZ\", \"text\": \"\", \"type\": \"scatter\", \"uid\": \"91ab5e66-e80b-423a-868c-77828622bf86\", \"x\": [\"chi2_2010\", \"chi2_2011\", \"chi2_2012\", \"chi2_2013\", \"chi2_2014\", \"chi2_2015\", \"chi2_2016\", \"chi2_2017\", \"chi2_2018\"], \"y\": [1.550253533735761, 3.234357440068056, 1.8058254911775942, 6.580496534742788, 11.86500244096228, 19.045515014681524, 18.000386821203872, 15.874694961903579, 0.873935882340057]}, {\"line\": {\"color\": \"rgba(128, 0, 128, 1.0)\", \"dash\": \"solid\", \"shape\": \"linear\", \"width\": 1.3}, \"mode\": \"lines\", \"name\": \"AR\", \"text\": \"\", \"type\": \"scatter\", \"uid\": \"f6251799-2690-4372-b315-2f86040cff9f\", \"x\": [\"chi2_2010\", \"chi2_2011\", \"chi2_2012\", \"chi2_2013\", \"chi2_2014\", \"chi2_2015\", \"chi2_2016\", \"chi2_2017\", \"chi2_2018\"], \"y\": [0.395676065916263, 0.11064562368256334, 0.8473118233136994, 0.5577920926135995, 9.13176657143195, 1.601743317609249, 1.1820817709903508, 0.04390223955008213, 1.0869498345456823]}, {\"line\": {\"color\": \"rgba(219, 64, 82, 1.0)\", \"dash\": \"solid\", \"shape\": \"linear\", \"width\": 1.3}, \"mode\": \"lines\", \"name\": \"CA\", \"text\": \"\", \"type\": \"scatter\", \"uid\": \"a7358f2c-b6f6-454a-8130-f40e9cc6610b\", \"x\": [\"chi2_2010\", \"chi2_2011\", \"chi2_2012\", \"chi2_2013\", \"chi2_2014\", \"chi2_2015\", \"chi2_2016\", \"chi2_2017\", \"chi2_2018\"], \"y\": [0.4875750417149722, 0.0011463131844410633, 0.3999601235004726, 0.5047903610714058, 0.3148265220199529, 0.041310074604350724, 0.1251457622333185, 0.010226429975922572, 0.10380244705454915]}, {\"line\": {\"color\": \"rgba(0, 128, 128, 1.0)\", \"dash\": \"solid\", \"shape\": \"linear\", \"width\": 1.3}, \"mode\": \"lines\", \"name\": \"CO\", \"text\": \"\", \"type\": \"scatter\", \"uid\": \"609a5a99-ab9d-4f5a-8975-77858244c8e5\", \"x\": [\"chi2_2010\", \"chi2_2011\", \"chi2_2012\", \"chi2_2013\", \"chi2_2014\", \"chi2_2015\", \"chi2_2016\", \"chi2_2017\", \"chi2_2018\"], \"y\": [0.0216622775806491, 2.2585139185254817, 0.018457430427569428, 1.3189690770710891, 4.546488352050909, 3.3731829573873973, 22.72790995899285, 10.350164394237103, 7.738800154387982]}, {\"line\": {\"color\": \"rgba(255, 255, 51, 1.0)\", \"dash\": \"solid\", \"shape\": \"linear\", \"width\": 1.3}, \"mode\": \"lines\", \"name\": \"CT\", \"text\": \"\", \"type\": \"scatter\", \"uid\": \"76eed1ce-bc6d-4208-922b-e2de81fcc2e8\", \"x\": [\"chi2_2010\", \"chi2_2011\", \"chi2_2012\", \"chi2_2013\", \"chi2_2014\", \"chi2_2015\", \"chi2_2016\", \"chi2_2017\", \"chi2_2018\"], \"y\": [1.8860592474842324, 1.156619608116926, 18.914557306537574, 10.007150953599568, 0.0477966168861107, 0.3785927931550862, 0.9210896989486507, 5.712616732897467, 11.330884508330191]}, {\"line\": {\"color\": \"rgba(128, 128, 0, 1.0)\", \"dash\": \"solid\", \"shape\": \"linear\", \"width\": 1.3}, \"mode\": \"lines\", \"name\": \"DE\", \"text\": \"\", \"type\": \"scatter\", \"uid\": \"e5c0beb0-ac11-4850-a2bc-3673fe60a540\", \"x\": [\"chi2_2010\", \"chi2_2011\", \"chi2_2012\", \"chi2_2013\", \"chi2_2014\", \"chi2_2015\", \"chi2_2016\", \"chi2_2017\", \"chi2_2018\"], \"y\": [0.27890565267874246, 0.7754008162076435, 4.922227157440245, 2.6047460542120944, 9.383521875872088, 8.092333681819978, 0.04546136161794999, 5.229726968424045, 0.03928375709169677]}, {\"line\": {\"color\": \"rgba(251, 128, 114, 1.0)\", \"dash\": \"solid\", \"shape\": \"linear\", \"width\": 1.3}, \"mode\": \"lines\", \"name\": \"DC\", \"text\": \"\", \"type\": \"scatter\", \"uid\": \"5a8b7c9e-91e0-4f25-b26a-6486d455e41b\", \"x\": [\"chi2_2010\", \"chi2_2011\", \"chi2_2012\", \"chi2_2013\", \"chi2_2014\", \"chi2_2015\", \"chi2_2016\", \"chi2_2017\", \"chi2_2018\"], \"y\": [0.08597242051238796, 0.8943108248871084, 1.5297241990596822, 17.29760307611507, 8.350083363328672, 9.981779405415793, 7.084643693458643, 10.023167697218168, 3.0764308416315567]}, {\"line\": {\"color\": \"rgba(128, 177, 211, 1.0)\", \"dash\": \"solid\", \"shape\": \"linear\", \"width\": 1.3}, \"mode\": \"lines\", \"name\": \"FL\", \"text\": \"\", \"type\": \"scatter\", \"uid\": \"bf387d1d-b398-4271-b7df-2c391305e621\", \"x\": [\"chi2_2010\", \"chi2_2011\", \"chi2_2012\", \"chi2_2013\", \"chi2_2014\", \"chi2_2015\", \"chi2_2016\", \"chi2_2017\", \"chi2_2018\"], \"y\": [0.1530320434603485, 0.02412165186352659, 0.003363715136668035, 1.0854739839834593, 1.7215262816287904, 0.40010678174307934, 0.0261545963669406, 0.20439069339964397, 0.09826010957390961]}, {\"line\": {\"color\": \"rgba(128, 177, 211, 0.8999999999999999)\", \"dash\": \"solid\", \"shape\": \"linear\", \"width\": 1.3}, \"mode\": \"lines\", \"name\": \"GA\", \"text\": \"\", \"type\": \"scatter\", \"uid\": \"7826b54c-0a3b-4d8c-9036-0198dc4d0d3b\", \"x\": [\"chi2_2010\", \"chi2_2011\", \"chi2_2012\", \"chi2_2013\", \"chi2_2014\", \"chi2_2015\", \"chi2_2016\", \"chi2_2017\", \"chi2_2018\"], \"y\": [2.405862738227247, 2.443748270893261, 4.850670046173401, 2.7191994664443064, 0.4239223184099512, 2.0067147405381047, 1.172353060511996, 0.5930703852567292, 0.38850359573881577]}, {\"line\": {\"color\": \"rgba(255, 153, 51, 0.8999999999999999)\", \"dash\": \"solid\", \"shape\": \"linear\", \"width\": 1.3}, \"mode\": \"lines\", \"name\": \"HI\", \"text\": \"\", \"type\": \"scatter\", \"uid\": \"cafb3af5-af7f-4ed7-a834-b4f8e4c011d6\", \"x\": [\"chi2_2010\", \"chi2_2011\", \"chi2_2012\", \"chi2_2013\", \"chi2_2014\", \"chi2_2015\", \"chi2_2016\", \"chi2_2017\", \"chi2_2018\"], \"y\": [4.593607291524939, 0.04663897048534533, 0.1727187212579327, 12.566026064958795, 14.344553374820832, 0.043988958238921044, 0.9427808088080031, 0.6629494005488337, 0.06006595921179651]}, {\"line\": {\"color\": \"rgba(55, 128, 191, 0.8999999999999999)\", \"dash\": \"solid\", \"shape\": \"linear\", \"width\": 1.3}, \"mode\": \"lines\", \"name\": \"ID\", \"text\": \"\", \"type\": \"scatter\", \"uid\": \"27546d27-a54f-4e1c-961a-7c02d9acdc52\", \"x\": [\"chi2_2010\", \"chi2_2011\", \"chi2_2012\", \"chi2_2013\", \"chi2_2014\", \"chi2_2015\", \"chi2_2016\", \"chi2_2017\", \"chi2_2018\"], \"y\": [1.0843562669506646, 5.331553564509862, 4.8790991012921685, 64.7384904072243, 32.77597647650707, 71.09128471330703, 44.13447681302835, 10.745526468489954, 25.17376974296388]}, {\"line\": {\"color\": \"rgba(50, 171, 96, 0.8999999999999999)\", \"dash\": \"solid\", \"shape\": \"linear\", \"width\": 1.3}, \"mode\": \"lines\", \"name\": \"IL\", \"text\": \"\", \"type\": \"scatter\", \"uid\": \"4cc6d14d-146d-4ae8-a10c-65f8bed03824\", \"x\": [\"chi2_2010\", \"chi2_2011\", \"chi2_2012\", \"chi2_2013\", \"chi2_2014\", \"chi2_2015\", \"chi2_2016\", \"chi2_2017\", \"chi2_2018\"], \"y\": [0.37789236839426815, 0.024848902053120063, 0.09224413028635713, 3.47825489729452, 5.001497348520505, 1.8845534988167203, 1.1807309643260089, 3.0616517574330318, 0.5548755624846493]}, {\"line\": {\"color\": \"rgba(128, 0, 128, 0.8999999999999999)\", \"dash\": \"solid\", \"shape\": \"linear\", \"width\": 1.3}, \"mode\": \"lines\", \"name\": \"IN\", \"text\": \"\", \"type\": \"scatter\", \"uid\": \"b3ecf671-d571-4706-85dc-1e581f72497d\", \"x\": [\"chi2_2010\", \"chi2_2011\", \"chi2_2012\", \"chi2_2013\", \"chi2_2014\", \"chi2_2015\", \"chi2_2016\", \"chi2_2017\", \"chi2_2018\"], \"y\": [0.05850509047715429, 0.23386204482886086, 0.10864533336265439, 0.010627201918850786, 0.2215964459790918, 2.421896917154803, 1.7302408824830982, 2.271423274161695, 1.235338026243357]}, {\"line\": {\"color\": \"rgba(219, 64, 82, 0.8999999999999999)\", \"dash\": \"solid\", \"shape\": \"linear\", \"width\": 1.3}, \"mode\": \"lines\", \"name\": \"IA\", \"text\": \"\", \"type\": \"scatter\", \"uid\": \"be280e73-7061-450b-95ad-f2f1134b3353\", \"x\": [\"chi2_2010\", \"chi2_2011\", \"chi2_2012\", \"chi2_2013\", \"chi2_2014\", \"chi2_2015\", \"chi2_2016\", \"chi2_2017\", \"chi2_2018\"], \"y\": [0.02660086560134806, 0.31075567411588834, 2.7236547673090663, 0.45085494028564477, 0.17036052822843079, 1.0415633560225765, 0.29099625850774796, 0.00853832122202133, 0.0051931489286996865]}, {\"line\": {\"color\": \"rgba(0, 128, 128, 0.8999999999999999)\", \"dash\": \"solid\", \"shape\": \"linear\", \"width\": 1.3}, \"mode\": \"lines\", \"name\": \"KS\", \"text\": \"\", \"type\": \"scatter\", \"uid\": \"d5fe5d4f-730c-4b9a-8ef5-2d95ce572a3e\", \"x\": [\"chi2_2010\", \"chi2_2011\", \"chi2_2012\", \"chi2_2013\", \"chi2_2014\", \"chi2_2015\", \"chi2_2016\", \"chi2_2017\", \"chi2_2018\"], \"y\": [0.5122853343007556, 0.06292343290788072, 0.08532945228255974, 0.34151434634394723, 0.21052007196791658, 0.7560528365508078, 0.012415033481244467, 0.22526770023441142, 0.1894020907247962]}, {\"line\": {\"color\": \"rgba(255, 255, 51, 0.8999999999999999)\", \"dash\": \"solid\", \"shape\": \"linear\", \"width\": 1.3}, \"mode\": \"lines\", \"name\": \"KY\", \"text\": \"\", \"type\": \"scatter\", \"uid\": \"2083ba3a-b2a4-43ff-855d-776308f7e896\", \"x\": [\"chi2_2010\", \"chi2_2011\", \"chi2_2012\", \"chi2_2013\", \"chi2_2014\", \"chi2_2015\", \"chi2_2016\", \"chi2_2017\", \"chi2_2018\"], \"y\": [0.049421682734461, 0.029725477237031367, 3.1011760373973436, 0.045378494973273314, 1.5155442099171414, 1.1029526388743804, 0.7244300652941628, 0.002072101546757371, 0.19624677386794992]}, {\"line\": {\"color\": \"rgba(128, 128, 0, 0.8999999999999999)\", \"dash\": \"solid\", \"shape\": \"linear\", \"width\": 1.3}, \"mode\": \"lines\", \"name\": \"LA\", \"text\": \"\", \"type\": \"scatter\", \"uid\": \"5c26ca79-70b4-4a94-aefd-6160f4c0adb7\", \"x\": [\"chi2_2010\", \"chi2_2011\", \"chi2_2012\", \"chi2_2013\", \"chi2_2014\", \"chi2_2015\", \"chi2_2016\", \"chi2_2017\", \"chi2_2018\"], \"y\": [2.904705832414025, 4.456828942301137, 6.868817202235645, 4.607078866052895, 0.21289384086570282, 2.004181648948862, 1.9479975152031654, 3.3450554841296083, 1.004709891323654]}, {\"line\": {\"color\": \"rgba(251, 128, 114, 0.8999999999999999)\", \"dash\": \"solid\", \"shape\": \"linear\", \"width\": 1.3}, \"mode\": \"lines\", \"name\": \"ME\", \"text\": \"\", \"type\": \"scatter\", \"uid\": \"006972be-a06b-4f5b-9e77-0c7b893bf842\", \"x\": [\"chi2_2010\", \"chi2_2011\", \"chi2_2012\", \"chi2_2013\", \"chi2_2014\", \"chi2_2015\", \"chi2_2016\", \"chi2_2017\", \"chi2_2018\"], \"y\": [6.361878189090656, 13.384172916507842, 117.76977188262356, 54.416602495246465, 10.428517484259677, 22.261222934096697, 67.57172879973064, 3.5658317507023094, 6.756071497150256]}, {\"line\": {\"color\": \"rgba(251, 128, 114, 0.7999999999999998)\", \"dash\": \"solid\", \"shape\": \"linear\", \"width\": 1.3}, \"mode\": \"lines\", \"name\": \"MD\", \"text\": \"\", \"type\": \"scatter\", \"uid\": \"99d44cf8-53d2-48e8-8275-8738b99d087d\", \"x\": [\"chi2_2010\", \"chi2_2011\", \"chi2_2012\", \"chi2_2013\", \"chi2_2014\", \"chi2_2015\", \"chi2_2016\", \"chi2_2017\", \"chi2_2018\"], \"y\": [1.4155574096434433, 0.9435218009852101, 0.5165753915340259, 0.316102651310572, 0.006570646275215037, 0.0623321049968652, 0.04999419110428306, 0.14788171160934868, 0.0004228730224463719]}, {\"line\": {\"color\": \"rgba(128, 177, 211, 0.7999999999999998)\", \"dash\": \"solid\", \"shape\": \"linear\", \"width\": 1.3}, \"mode\": \"lines\", \"name\": \"MA\", \"text\": \"\", \"type\": \"scatter\", \"uid\": \"efa95420-3399-46ef-9299-2df990c3a69d\", \"x\": [\"chi2_2010\", \"chi2_2011\", \"chi2_2012\", \"chi2_2013\", \"chi2_2014\", \"chi2_2015\", \"chi2_2016\", \"chi2_2017\", \"chi2_2018\"], \"y\": [0.386993928012359, 0.0008092815320061529, 0.00469169597396003, 1.6661257318492206, 0.5170356807972348, 0.04893104899995718, 0.023322640121263064, 0.0005827276965034611, 0.029432085378001075]}, {\"line\": {\"color\": \"rgba(255, 153, 51, 0.7999999999999998)\", \"dash\": \"solid\", \"shape\": \"linear\", \"width\": 1.3}, \"mode\": \"lines\", \"name\": \"MI\", \"text\": \"\", \"type\": \"scatter\", \"uid\": \"d9ba22ed-2416-4423-99ce-866da138aae9\", \"x\": [\"chi2_2010\", \"chi2_2011\", \"chi2_2012\", \"chi2_2013\", \"chi2_2014\", \"chi2_2015\", \"chi2_2016\", \"chi2_2017\", \"chi2_2018\"], \"y\": [0.022568083671578552, 0.05672963627840608, 0.0029594354511243595, 1.0538845364509744, 1.826323910951337, 0.2604472931030035, 0.48427016860373295, 0.06472396868057377, 1.2599405690104484]}, {\"line\": {\"color\": \"rgba(55, 128, 191, 0.7999999999999998)\", \"dash\": \"solid\", \"shape\": \"linear\", \"width\": 1.3}, \"mode\": \"lines\", \"name\": \"MN\", \"text\": \"\", \"type\": \"scatter\", \"uid\": \"e3398754-4843-4525-87da-d8b3b7e38c04\", \"x\": [\"chi2_2010\", \"chi2_2011\", \"chi2_2012\", \"chi2_2013\", \"chi2_2014\", \"chi2_2015\", \"chi2_2016\", \"chi2_2017\", \"chi2_2018\"], \"y\": [0.5108372382214396, 0.04417606006251144, 0.4660288662616347, 0.01880651483083718, 1.876512578849798, 2.1222260881751334, 0.08494430480647516, 1.8401153833894447e-05, 0.02948230967685594]}, {\"line\": {\"color\": \"rgba(50, 171, 96, 0.7999999999999998)\", \"dash\": \"solid\", \"shape\": \"linear\", \"width\": 1.3}, \"mode\": \"lines\", \"name\": \"MS\", \"text\": \"\", \"type\": \"scatter\", \"uid\": \"53fb0d49-e256-45e0-9c61-0d718f87f196\", \"x\": [\"chi2_2010\", \"chi2_2011\", \"chi2_2012\", \"chi2_2013\", \"chi2_2014\", \"chi2_2015\", \"chi2_2016\", \"chi2_2017\", \"chi2_2018\"], \"y\": [4.499321087298823, 4.177524882997107, 3.7647740747974128, 4.191795692065411, 3.6742289573635873, 2.5388220918652937, 1.8194885407009012, 3.5405465266066947, 0.2391794823043284]}, {\"line\": {\"color\": \"rgba(128, 0, 128, 0.7999999999999998)\", \"dash\": \"solid\", \"shape\": \"linear\", \"width\": 1.3}, \"mode\": \"lines\", \"name\": \"MO\", \"text\": \"\", \"type\": \"scatter\", \"uid\": \"ca2988ff-fae0-4308-9adf-afc69b0ba0e9\", \"x\": [\"chi2_2010\", \"chi2_2011\", \"chi2_2012\", \"chi2_2013\", \"chi2_2014\", \"chi2_2015\", \"chi2_2016\", \"chi2_2017\", \"chi2_2018\"], \"y\": [1.310570112899189, 2.3325411319366185, 1.063084098138885, 0.6171865119609576, 0.08721944352009743, 0.9401892732484978, 0.04090224978517197, 0.7758668235016748, 0.001685013796162364]}, {\"line\": {\"color\": \"rgba(219, 64, 82, 0.7999999999999998)\", \"dash\": \"solid\", \"shape\": \"linear\", \"width\": 1.3}, \"mode\": \"lines\", \"name\": \"MT\", \"text\": \"\", \"type\": \"scatter\", \"uid\": \"985d5a3f-d49f-4795-8200-1aa653c28ce2\", \"x\": [\"chi2_2010\", \"chi2_2011\", \"chi2_2012\", \"chi2_2013\", \"chi2_2014\", \"chi2_2015\", \"chi2_2016\", \"chi2_2017\", \"chi2_2018\"], \"y\": [17.456164839111874, 33.604662645998566, 90.15305614658499, 33.66963870874689, 25.37453777631522, 46.790457760673895, 49.52340786506171, 79.87560870552392, 28.64507929136813]}, {\"line\": {\"color\": \"rgba(0, 128, 128, 0.7999999999999998)\", \"dash\": \"solid\", \"shape\": \"linear\", \"width\": 1.3}, \"mode\": \"lines\", \"name\": \"NE\", \"text\": \"\", \"type\": \"scatter\", \"uid\": \"cb9f63e6-8760-4501-8dec-cb64c242ed8c\", \"x\": [\"chi2_2010\", \"chi2_2011\", \"chi2_2012\", \"chi2_2013\", \"chi2_2014\", \"chi2_2015\", \"chi2_2016\", \"chi2_2017\", \"chi2_2018\"], \"y\": [3.1523397495738252, 0.21988505773423925, 0.3073755338823604, 1.970570222656595, 4.008739420250972, 2.1126948655497797, 3.5357848297422296, 0.8806099007651517, 0.5862281258229352]}, {\"line\": {\"color\": \"rgba(255, 255, 51, 0.7999999999999998)\", \"dash\": \"solid\", \"shape\": \"linear\", \"width\": 1.3}, \"mode\": \"lines\", \"name\": \"NV\", \"text\": \"\", \"type\": \"scatter\", \"uid\": \"e48e7bed-dd60-41ae-8026-5847953cbe71\", \"x\": [\"chi2_2010\", \"chi2_2011\", \"chi2_2012\", \"chi2_2013\", \"chi2_2014\", \"chi2_2015\", \"chi2_2016\", \"chi2_2017\", \"chi2_2018\"], \"y\": [2.644668349023196, 0.5741984008266994, 1.32911584753975, 0.5477339949058562, 3.0393909281963483, 15.811007272966405, 2.5162463808246853, 1.5354016710890757, 5.9531518161335315]}, {\"line\": {\"color\": \"rgba(128, 128, 0, 0.7999999999999998)\", \"dash\": \"solid\", \"shape\": \"linear\", \"width\": 1.3}, \"mode\": \"lines\", \"name\": \"NH\", \"text\": \"\", \"type\": \"scatter\", \"uid\": \"8de458c7-baf5-4986-a402-fd1d3cc1c0b2\", \"x\": [\"chi2_2010\", \"chi2_2011\", \"chi2_2012\", \"chi2_2013\", \"chi2_2014\", \"chi2_2015\", \"chi2_2016\", \"chi2_2017\", \"chi2_2018\"], \"y\": [0.8801374699324115, 5.996245662637468, 69.56050699685817, 30.803942061087053, 78.49754605452682, 96.35812466585271, 23.00845145455497, 43.60893647003565, 7.800747086610782]}, {\"line\": {\"color\": \"rgba(128, 128, 0, 0.7)\", \"dash\": \"solid\", \"shape\": \"linear\", \"width\": 1.3}, \"mode\": \"lines\", \"name\": \"NJ\", \"text\": \"\", \"type\": \"scatter\", \"uid\": \"163ec264-3474-42bb-9607-bf5664acc08e\", \"x\": [\"chi2_2010\", \"chi2_2011\", \"chi2_2012\", \"chi2_2013\", \"chi2_2014\", \"chi2_2015\", \"chi2_2016\", \"chi2_2017\", \"chi2_2018\"], \"y\": [0.5060780146576167, 1.8703624367323384, 1.890859381696808, 0.6617929783655756, 1.4377556367600008, 1.1171333705578272, 0.6261862507510528, 0.1479819965252122, 0.4595832200819029]}, {\"line\": {\"color\": \"rgba(251, 128, 114, 0.7)\", \"dash\": \"solid\", \"shape\": \"linear\", \"width\": 1.3}, \"mode\": \"lines\", \"name\": \"NM\", \"text\": \"\", \"type\": \"scatter\", \"uid\": \"6c13a58a-adc7-4a39-862a-56e044acb03d\", \"x\": [\"chi2_2010\", \"chi2_2011\", \"chi2_2012\", \"chi2_2013\", \"chi2_2014\", \"chi2_2015\", \"chi2_2016\", \"chi2_2017\", \"chi2_2018\"], \"y\": [0.36935105680725944, 0.052846371902384864, 0.5637665808252996, 12.732262914260202, 28.288172532188224, 9.318897809609604, 23.49606279452959, 29.155633808772055, 35.76747319486306]}, {\"line\": {\"color\": \"rgba(128, 177, 211, 0.7)\", \"dash\": \"solid\", \"shape\": \"linear\", \"width\": 1.3}, \"mode\": \"lines\", \"name\": \"NY\", \"text\": \"\", \"type\": \"scatter\", \"uid\": \"3259d1e8-d968-4861-9237-7ecdf7bcf5a7\", \"x\": [\"chi2_2010\", \"chi2_2011\", \"chi2_2012\", \"chi2_2013\", \"chi2_2014\", \"chi2_2015\", \"chi2_2016\", \"chi2_2017\", \"chi2_2018\"], \"y\": [1.2942109236411832, 0.5546672352779723, 0.6302929779276599, 3.7725767124612215, 2.401417343806662, 1.2628350921634266, 1.5771425979755143, 1.5308611969121846, 1.5627749813324316]}, {\"line\": {\"color\": \"rgba(255, 153, 51, 0.7)\", \"dash\": \"solid\", \"shape\": \"linear\", \"width\": 1.3}, \"mode\": \"lines\", \"name\": \"NC\", \"text\": \"\", \"type\": \"scatter\", \"uid\": \"23486638-dcdc-4134-96ec-6f5d91b7edb0\", \"x\": [\"chi2_2010\", \"chi2_2011\", \"chi2_2012\", \"chi2_2013\", \"chi2_2014\", \"chi2_2015\", \"chi2_2016\", \"chi2_2017\", \"chi2_2018\"], \"y\": [0.07225369666011165, 0.8079362293213106, 0.10932085580356272, 0.1540768657204985, 0.4183505309581631, 0.08251227322680936, 1.4541703951242901, 0.10375626853292833, 0.11607621308667183]}, {\"line\": {\"color\": \"rgba(55, 128, 191, 0.7)\", \"dash\": \"solid\", \"shape\": \"linear\", \"width\": 1.3}, \"mode\": \"lines\", \"name\": \"ND\", \"text\": \"\", \"type\": \"scatter\", \"uid\": \"35b44e7e-6a8c-409b-b098-e8551c511ad9\", \"x\": [\"chi2_2010\", \"chi2_2011\", \"chi2_2012\", \"chi2_2013\", \"chi2_2014\", \"chi2_2015\", \"chi2_2016\", \"chi2_2017\", \"chi2_2018\"], \"y\": [3.5834328075189292, 0.16898116182979406, 2.3703986398349857, 8.773008946392855, 3.7938302223800795, 0.5649669315150954, 0.13510908683709885, 0.05254171375292735, 1.0186537084652263]}, {\"line\": {\"color\": \"rgba(50, 171, 96, 0.7)\", \"dash\": \"solid\", \"shape\": \"linear\", \"width\": 1.3}, \"mode\": \"lines\", \"name\": \"OH\", \"text\": \"\", \"type\": \"scatter\", \"uid\": \"a539d52a-166a-43b7-b104-6f84d7174924\", \"x\": [\"chi2_2010\", \"chi2_2011\", \"chi2_2012\", \"chi2_2013\", \"chi2_2014\", \"chi2_2015\", \"chi2_2016\", \"chi2_2017\", \"chi2_2018\"], \"y\": [0.3573110468853142, 0.31095434803060423, 0.037476614145651996, 3.9466824855236555, 0.029001423324983417, 0.1246330672432943, 0.45206015833756097, 0.22061710827881828, 0.3157710399893938]}, {\"line\": {\"color\": \"rgba(128, 0, 128, 0.7)\", \"dash\": \"solid\", \"shape\": \"linear\", \"width\": 1.3}, \"mode\": \"lines\", \"name\": \"OK\", \"text\": \"\", \"type\": \"scatter\", \"uid\": \"6b14479f-f7c4-4779-afca-2f6cd5252240\", \"x\": [\"chi2_2010\", \"chi2_2011\", \"chi2_2012\", \"chi2_2013\", \"chi2_2014\", \"chi2_2015\", \"chi2_2016\", \"chi2_2017\", \"chi2_2018\"], \"y\": [1.4803722652944111, 0.23504135890255612, 0.08412376614364606, 0.013970030403954633, 0.06497963070089106, 0.10829564170138387, 1.9654032716405394, 0.18799989893347172, 0.05443245106764561]}, {\"line\": {\"color\": \"rgba(219, 64, 82, 0.7)\", \"dash\": \"solid\", \"shape\": \"linear\", \"width\": 1.3}, \"mode\": \"lines\", \"name\": \"OR\", \"text\": \"\", \"type\": \"scatter\", \"uid\": \"2ed50e02-3f6c-4bc7-aa68-a91badc1971e\", \"x\": [\"chi2_2010\", \"chi2_2011\", \"chi2_2012\", \"chi2_2013\", \"chi2_2014\", \"chi2_2015\", \"chi2_2016\", \"chi2_2017\", \"chi2_2018\"], \"y\": [5.862571878527158, 7.841378862324648, 13.841953968860295, 25.147666985272103, 33.2362322071157, 56.01085865929981, 35.34173711749036, 13.90951501879685, 20.439162891384598]}, {\"line\": {\"color\": \"rgba(0, 128, 128, 0.7)\", \"dash\": \"solid\", \"shape\": \"linear\", \"width\": 1.3}, \"mode\": \"lines\", \"name\": \"PA\", \"text\": \"\", \"type\": \"scatter\", \"uid\": \"6838e055-43d0-4b89-9295-6f68f5e19acc\", \"x\": [\"chi2_2010\", \"chi2_2011\", \"chi2_2012\", \"chi2_2013\", \"chi2_2014\", \"chi2_2015\", \"chi2_2016\", \"chi2_2017\", \"chi2_2018\"], \"y\": [0.027832259815735626, 0.22833817823803515, 6.592288774747991e-07, 0.03146070392105854, 0.7063923782611804, 0.04977318873985336, 0.017595962016088876, 0.07982316572815788, 1.074094584604838]}, {\"line\": {\"color\": \"rgba(255, 255, 51, 0.7)\", \"dash\": \"solid\", \"shape\": \"linear\", \"width\": 1.3}, \"mode\": \"lines\", \"name\": \"RI\", \"text\": \"\", \"type\": \"scatter\", \"uid\": \"900dd883-0908-4ad5-888f-ed773a968d2c\", \"x\": [\"chi2_2010\", \"chi2_2011\", \"chi2_2012\", \"chi2_2013\", \"chi2_2014\", \"chi2_2015\", \"chi2_2016\", \"chi2_2017\", \"chi2_2018\"], \"y\": [1.2339815552642266, 0.329934906833636, 4.815611135234177, 5.008656491951847, 3.0634116456445604, 37.48249566081418, 11.518355153257923, 11.070749377036616, 9.047000598119679]}, {\"line\": {\"color\": \"rgba(255, 255, 51, 0.5999999999999999)\", \"dash\": \"solid\", \"shape\": \"linear\", \"width\": 1.3}, \"mode\": \"lines\", \"name\": \"SC\", \"text\": \"\", \"type\": \"scatter\", \"uid\": \"cd7aab7d-8421-4084-8f7d-42110f23a834\", \"x\": [\"chi2_2010\", \"chi2_2011\", \"chi2_2012\", \"chi2_2013\", \"chi2_2014\", \"chi2_2015\", \"chi2_2016\", \"chi2_2017\", \"chi2_2018\"], \"y\": [0.06331100000999401, 4.726825945789674, 9.432561552088883, 3.7457603100490027, 29.65353896915206, 0.15571752620451948, 0.1400593298656927, 3.1991649774303257, 4.433761237786477]}, {\"line\": {\"color\": \"rgba(128, 128, 0, 0.5999999999999999)\", \"dash\": \"solid\", \"shape\": \"linear\", \"width\": 1.3}, \"mode\": \"lines\", \"name\": \"SD\", \"text\": \"\", \"type\": \"scatter\", \"uid\": \"79d03e63-e966-4213-8f2f-5a4ae7f2ee0f\", \"x\": [\"chi2_2010\", \"chi2_2011\", \"chi2_2012\", \"chi2_2013\", \"chi2_2014\", \"chi2_2015\", \"chi2_2016\", \"chi2_2017\", \"chi2_2018\"], \"y\": [0.062040498542557575, 1.1565789914417355, 3.19853563562284, 0.2616810101986572, 0.020023347046850746, 1.3379836984550142, 6.6594589505246145, 2.4499102913298696, 1.6916888508581713]}, {\"line\": {\"color\": \"rgba(251, 128, 114, 0.5999999999999999)\", \"dash\": \"solid\", \"shape\": \"linear\", \"width\": 1.3}, \"mode\": \"lines\", \"name\": \"TN\", \"text\": \"\", \"type\": \"scatter\", \"uid\": \"0fe9f3e5-41ed-4967-8789-c8e46776424d\", \"x\": [\"chi2_2010\", \"chi2_2011\", \"chi2_2012\", \"chi2_2013\", \"chi2_2014\", \"chi2_2015\", \"chi2_2016\", \"chi2_2017\", \"chi2_2018\"], \"y\": [1.0734492424626882, 0.0064029879489508985, 0.7550114957384038, 0.21432514692310614, 0.11566740924983362, 0.46924326991745463, 0.003979421179552968, 0.09661123621514936, 0.2980573866517994]}, {\"line\": {\"color\": \"rgba(128, 177, 211, 0.5999999999999999)\", \"dash\": \"solid\", \"shape\": \"linear\", \"width\": 1.3}, \"mode\": \"lines\", \"name\": \"TX\", \"text\": \"\", \"type\": \"scatter\", \"uid\": \"ea5f110e-f515-441a-85e8-1eb8402b0547\", \"x\": [\"chi2_2010\", \"chi2_2011\", \"chi2_2012\", \"chi2_2013\", \"chi2_2014\", \"chi2_2015\", \"chi2_2016\", \"chi2_2017\", \"chi2_2018\"], \"y\": [1.1953521903181308, 2.3111582332100715, 6.635870237039694, 7.411533253990366, 7.239362475558189, 8.218878622048418, 6.4527185638988, 6.103551911912816, 3.5659631962135996]}, {\"line\": {\"color\": \"rgba(255, 153, 51, 0.5999999999999999)\", \"dash\": \"solid\", \"shape\": \"linear\", \"width\": 1.3}, \"mode\": \"lines\", \"name\": \"UT\", \"text\": \"\", \"type\": \"scatter\", \"uid\": \"afac4d97-926c-4ffa-b995-014119ade180\", \"x\": [\"chi2_2010\", \"chi2_2011\", \"chi2_2012\", \"chi2_2013\", \"chi2_2014\", \"chi2_2015\", \"chi2_2016\", \"chi2_2017\", \"chi2_2018\"], \"y\": [0.25260733096192634, 0.4873849611060354, 12.031170137295804, 5.046807283988705, 0.17033524011573664, 2.29619715173413, 9.57422813517694, 3.7620286910939185, 1.742215695130356]}, {\"line\": {\"color\": \"rgba(55, 128, 191, 0.5999999999999999)\", \"dash\": \"solid\", \"shape\": \"linear\", \"width\": 1.3}, \"mode\": \"lines\", \"name\": \"VT\", \"text\": \"\", \"type\": \"scatter\", \"uid\": \"6eb8354c-292c-4035-95e4-dbe7b00cfe48\", \"x\": [\"chi2_2010\", \"chi2_2011\", \"chi2_2012\", \"chi2_2013\", \"chi2_2014\", \"chi2_2015\", \"chi2_2016\", \"chi2_2017\", \"chi2_2018\"], \"y\": [4.566632710505194, 22.56170598426329, 184.3003494391567, 331.5174862405662, 39.087267958630534, 146.61861488614264, 25.318642310955994, 9.995024809550015, 66.24808340124162]}, {\"line\": {\"color\": \"rgba(50, 171, 96, 0.5999999999999999)\", \"dash\": \"solid\", \"shape\": \"linear\", \"width\": 1.3}, \"mode\": \"lines\", \"name\": \"VA\", \"text\": \"\", \"type\": \"scatter\", \"uid\": \"775c1113-beca-4afc-aa92-39e200286fe2\", \"x\": [\"chi2_2010\", \"chi2_2011\", \"chi2_2012\", \"chi2_2013\", \"chi2_2014\", \"chi2_2015\", \"chi2_2016\", \"chi2_2017\", \"chi2_2018\"], \"y\": [1.1604250604393314, 0.736947551475026, 1.2116668347849524, 0.2303669125059281, 0.36935990699150234, 0.24630765496155438, 0.35258798033006683, 0.2739150008551421, 0.005551874343656593]}, {\"line\": {\"color\": \"rgba(128, 0, 128, 0.5999999999999999)\", \"dash\": \"solid\", \"shape\": \"linear\", \"width\": 1.3}, \"mode\": \"lines\", \"name\": \"WA\", \"text\": \"\", \"type\": \"scatter\", \"uid\": \"9785ecf6-2b86-4c32-910d-29441331c360\", \"x\": [\"chi2_2010\", \"chi2_2011\", \"chi2_2012\", \"chi2_2013\", \"chi2_2014\", \"chi2_2015\", \"chi2_2016\", \"chi2_2017\", \"chi2_2018\"], \"y\": [40.86976722002718, 42.806665000790986, 51.5508131234472, 22.89946113041652, 24.40866997908055, 13.475282775361197, 10.070410084706307, 8.984945936595375, 10.80238837818064]}, {\"line\": {\"color\": \"rgba(219, 64, 82, 0.5999999999999999)\", \"dash\": \"solid\", \"shape\": \"linear\", \"width\": 1.3}, \"mode\": \"lines\", \"name\": \"WV\", \"text\": \"\", \"type\": \"scatter\", \"uid\": \"2dbc223e-2086-4275-970e-181d203420ee\", \"x\": [\"chi2_2010\", \"chi2_2011\", \"chi2_2012\", \"chi2_2013\", \"chi2_2014\", \"chi2_2015\", \"chi2_2016\", \"chi2_2017\", \"chi2_2018\"], \"y\": [0.6001032478385275, 0.4148817248698422, 3.0965403442715957, 2.9986528252042537, 3.998125149227374, 4.964588271610536, 0.050195991886772436, 0.23470326386639923, 0.00013132044237605482]}, {\"line\": {\"color\": \"rgba(0, 128, 128, 0.5999999999999999)\", \"dash\": \"solid\", \"shape\": \"linear\", \"width\": 1.3}, \"mode\": \"lines\", \"name\": \"WI\", \"text\": \"\", \"type\": \"scatter\", \"uid\": \"0c33e468-fbf7-4187-adfc-3fdabae3d0be\", \"x\": [\"chi2_2010\", \"chi2_2011\", \"chi2_2012\", \"chi2_2013\", \"chi2_2014\", \"chi2_2015\", \"chi2_2016\", \"chi2_2017\", \"chi2_2018\"], \"y\": [0.15913288264605477, 0.3503867451077483, 0.3746564156630755, 3.869941040025531, 0.0026159385497883107, 0.4183481644288096, 1.5355982696554096, 0.05316957820419553, 0.3744968733619856]}, {\"line\": {\"color\": \"rgba(0, 128, 128, 0.49999999999999983)\", \"dash\": \"solid\", \"shape\": \"linear\", \"width\": 1.3}, \"mode\": \"lines\", \"name\": \"WY\", \"text\": \"\", \"type\": \"scatter\", \"uid\": \"7aeddf5b-5a58-408f-86b8-33fb55d38e94\", \"x\": [\"chi2_2010\", \"chi2_2011\", \"chi2_2012\", \"chi2_2013\", \"chi2_2014\", \"chi2_2015\", \"chi2_2016\", \"chi2_2017\", \"chi2_2018\"], \"y\": [7.418770091634837, 17.39590972275138, 0.06838791548266057, 2.5805015542780954, 4.1445518889236395, 7.154664159462978, 6.159557222485527, 17.434874883551718, 22.05716616172042]}],\n",
       "                        {\"legend\": {\"bgcolor\": \"#F5F6F9\", \"font\": {\"color\": \"#4D5663\"}}, \"paper_bgcolor\": \"#F5F6F9\", \"plot_bgcolor\": \"#F5F6F9\", \"title\": {\"font\": {\"color\": \"#4D5663\"}}, \"xaxis\": {\"gridcolor\": \"#E1E5ED\", \"showgrid\": true, \"tickfont\": {\"color\": \"#4D5663\"}, \"title\": {\"font\": {\"color\": \"#4D5663\"}, \"text\": \"\"}, \"zerolinecolor\": \"#E1E5ED\"}, \"yaxis\": {\"gridcolor\": \"#E1E5ED\", \"showgrid\": true, \"tickfont\": {\"color\": \"#4D5663\"}, \"title\": {\"font\": {\"color\": \"#4D5663\"}, \"text\": \"\"}, \"zerolinecolor\": \"#E1E5ED\"}},\n",
       "                        {\"showLink\": true, \"linkText\": \"Export to plot.ly\", \"plotlyServerURL\": \"https://plot.ly\", \"responsive\": true}\n",
       "                    ).then(function(){\n",
       "                            \n",
       "var gd = document.getElementById('7ad99ab2-3218-4138-a236-c95d8d6ca660');\n",
       "var x = new MutationObserver(function (mutations, observer) {{\n",
       "        var display = window.getComputedStyle(gd).display;\n",
       "        if (!display || display === 'none') {{\n",
       "            console.log([gd, 'removed!']);\n",
       "            Plotly.purge(gd);\n",
       "            observer.disconnect();\n",
       "        }}\n",
       "}});\n",
       "\n",
       "// Listen for the removal of the full notebook cells\n",
       "var notebookContainer = gd.closest('#notebook-container');\n",
       "if (notebookContainer) {{\n",
       "    x.observe(notebookContainer, {childList: true});\n",
       "}}\n",
       "\n",
       "// Listen for the clearing of the current output cell\n",
       "var outputEl = gd.closest('.output');\n",
       "if (outputEl) {{\n",
       "    x.observe(outputEl, {childList: true});\n",
       "}}\n",
       "\n",
       "                        })\n",
       "                };\n",
       "                });\n",
       "            </script>\n",
       "        </div>"
      ]
     },
     "metadata": {},
     "output_type": "display_data"
    }
   ],
   "source": [
    "best_sightings.iplot()"
   ]
  },
  {
   "cell_type": "markdown",
   "metadata": {},
   "source": [
    "## ANOVA"
   ]
  },
  {
   "cell_type": "code",
   "execution_count": 119,
   "metadata": {},
   "outputs": [
    {
     "name": "stdout",
     "output_type": "stream",
     "text": [
      "               df        sum_sq       mean_sq          F        PR(>F)\n",
      "C(Shape)     42.0  4.453341e+09  1.060319e+08  10.746247  8.405330e-70\n",
      "Residual  87706.0  8.653845e+11  9.866880e+06        NaN           NaN\n"
     ]
    }
   ],
   "source": [
    "formula = 'Duration_sec ~ C(Shape)'\n",
    "lm = ols(formula, ufo_df).fit()\n",
    "table = sm.stats.anova_lm(lm, typ=1)\n",
    "print(table)"
   ]
  },
  {
   "cell_type": "markdown",
   "metadata": {},
   "source": [
    "#### Not all shapes have the same duration. Which one lasts longer?"
   ]
  },
  {
   "cell_type": "code",
   "execution_count": 125,
   "metadata": {},
   "outputs": [],
   "source": [
    "mc = MultiComparison(ufo_df['Duration_sec'], ufo_df['Shape'])\n",
    "result = mc.tukeyhsd()\n",
    " \n",
    "# type(result)\n",
    "# print(mc.groupstrue)"
   ]
  },
  {
   "cell_type": "code",
   "execution_count": null,
   "metadata": {},
   "outputs": [],
   "source": []
  }
 ],
 "metadata": {
  "kernelspec": {
   "display_name": "Python 3",
   "language": "python",
   "name": "python3"
  },
  "language_info": {
   "codemirror_mode": {
    "name": "ipython",
    "version": 3
   },
   "file_extension": ".py",
   "mimetype": "text/x-python",
   "name": "python",
   "nbconvert_exporter": "python",
   "pygments_lexer": "ipython3",
   "version": "3.7.3"
  },
  "latex_envs": {
   "LaTeX_envs_menu_present": true,
   "autoclose": false,
   "autocomplete": true,
   "bibliofile": "biblio.bib",
   "cite_by": "apalike",
   "current_citInitial": 1,
   "eqLabelWithNumbers": true,
   "eqNumInitial": 1,
   "hotkeys": {
    "equation": "Ctrl-E",
    "itemize": "Ctrl-I"
   },
   "labels_anchors": false,
   "latex_user_defs": false,
   "report_style_numbering": false,
   "user_envs_cfg": false
  },
  "toc": {
   "base_numbering": 1,
   "nav_menu": {},
   "number_sections": true,
   "sideBar": true,
   "skip_h1_title": false,
   "title_cell": "Table of Contents",
   "title_sidebar": "Contents",
   "toc_cell": false,
   "toc_position": {},
   "toc_section_display": true,
   "toc_window_display": false
  }
 },
 "nbformat": 4,
 "nbformat_minor": 2
}
